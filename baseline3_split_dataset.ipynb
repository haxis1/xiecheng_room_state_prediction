{
 "cells": [
  {
   "cell_type": "code",
   "execution_count": null,
   "metadata": {
    "collapsed": true
   },
   "outputs": [],
   "source": [
    "baseline3_split_dataset"
   ]
  },
  {
   "cell_type": "code",
   "execution_count": null,
   "metadata": {
    "collapsed": true
   },
   "outputs": [],
   "source": []
  },
  {
   "cell_type": "code",
   "execution_count": null,
   "metadata": {
    "collapsed": true
   },
   "outputs": [],
   "source": [
    "由于split的dataset可以固定了，因此就将几个split后的dataset保存起来\n",
    "然后用baseline3执行就好了"
   ]
  },
  {
   "cell_type": "code",
   "execution_count": null,
   "metadata": {
    "collapsed": true
   },
   "outputs": [],
   "source": [
    "注：这里对B也要处理"
   ]
  },
  {
   "cell_type": "code",
   "execution_count": 1,
   "metadata": {
    "ExecuteTime": {
     "end_time": "2018-07-18T14:01:47.065193Z",
     "start_time": "2018-07-18T14:01:44.023034Z"
    },
    "collapsed": true
   },
   "outputs": [],
   "source": [
    "import numpy as np\n",
    "import pandas as pd"
   ]
  },
  {
   "cell_type": "code",
   "execution_count": 2,
   "metadata": {
    "ExecuteTime": {
     "end_time": "2018-07-18T14:04:21.616225Z",
     "start_time": "2018-07-18T14:04:07.243074Z"
    },
    "collapsed": true
   },
   "outputs": [],
   "source": [
    "train_x = pd.read_csv('dataset/train/ord_train_pre2.csv')\n",
    "test_A = pd.read_csv('dataset/test/ord_testA_pre2.csv',encoding = 'GB2312')\n",
    "test_B = pd.read_csv('dataset/test/ord_testB_pre2.csv',encoding = 'GB2312')"
   ]
  },
  {
   "cell_type": "code",
   "execution_count": 3,
   "metadata": {
    "ExecuteTime": {
     "end_time": "2018-07-18T14:04:23.092092Z",
     "start_time": "2018-07-18T14:04:23.080562Z"
    }
   },
   "outputs": [
    {
     "data": {
      "text/plain": [
       "((4023086, 22), (11035, 22), (11036, 22))"
      ]
     },
     "execution_count": 3,
     "metadata": {},
     "output_type": "execute_result"
    }
   ],
   "source": [
    "train_x.shape,test_A.shape,test_B.shape"
   ]
  },
  {
   "cell_type": "code",
   "execution_count": null,
   "metadata": {
    "collapsed": true
   },
   "outputs": [],
   "source": [
    "date类型转换（没法保存，必须每次都做）"
   ]
  },
  {
   "cell_type": "code",
   "execution_count": 4,
   "metadata": {
    "ExecuteTime": {
     "end_time": "2018-07-18T14:09:38.245712Z",
     "start_time": "2018-07-18T14:05:05.213739Z"
    },
    "collapsed": true
   },
   "outputs": [],
   "source": [
    "from dateutil.parser import parse\n",
    "train_x['orderdate'] = train_x['orderdate'].apply(parse)\n",
    "test_A['orderdate'] = test_A['orderdate'].apply(parse)\n",
    "test_B['orderdate'] = test_B['orderdate'].apply(parse)"
   ]
  },
  {
   "cell_type": "code",
   "execution_count": null,
   "metadata": {
    "collapsed": true
   },
   "outputs": [],
   "source": [
    "出现次数少的是否要处理？\n",
    "——处理，但是必须非常低的，比如1,2次，10次不行"
   ]
  },
  {
   "cell_type": "code",
   "execution_count": null,
   "metadata": {
    "collapsed": true
   },
   "outputs": [],
   "source": [
    "先处理下nan\n",
    "——要处理的只有zone"
   ]
  },
  {
   "cell_type": "code",
   "execution_count": null,
   "metadata": {
    "collapsed": true
   },
   "outputs": [],
   "source": [
    "train_x.isnull().sum()"
   ]
  },
  {
   "cell_type": "code",
   "execution_count": null,
   "metadata": {
    "collapsed": true
   },
   "outputs": [],
   "source": [
    "-1,0,nan三者一个意思\n",
    "——全用-1代替"
   ]
  },
  {
   "cell_type": "code",
   "execution_count": 5,
   "metadata": {
    "ExecuteTime": {
     "end_time": "2018-07-18T14:09:39.786996Z",
     "start_time": "2018-07-18T14:09:39.704070Z"
    },
    "collapsed": true
   },
   "outputs": [],
   "source": [
    "train_x['zone'].replace(np.nan,-1,inplace = True)\n",
    "train_x['zone'].replace(0,-1,inplace = True)"
   ]
  },
  {
   "cell_type": "code",
   "execution_count": null,
   "metadata": {
    "collapsed": true
   },
   "outputs": [],
   "source": [
    "需要考虑去除低频id的特征：\n",
    "countryid 只有202个，暂时不去除；\n",
    "city 12000+，去除出现次数小于3次的\n",
    "supplierid，700个左右，不处理\n",
    "zone 3000左右，不处理（=1的300个）"
   ]
  },
  {
   "cell_type": "code",
   "execution_count": 6,
   "metadata": {
    "ExecuteTime": {
     "end_time": "2018-07-18T14:09:41.548369Z",
     "start_time": "2018-07-18T14:09:41.304630Z"
    },
    "collapsed": true
   },
   "outputs": [],
   "source": [
    "cityid = train_x['city'].value_counts()"
   ]
  },
  {
   "cell_type": "code",
   "execution_count": 7,
   "metadata": {
    "ExecuteTime": {
     "end_time": "2018-07-18T12:15:42.450714Z",
     "start_time": "2018-07-18T12:15:42.396920Z"
    }
   },
   "outputs": [
    {
     "data": {
      "text/plain": [
       "(12107, 3773, 5495)"
      ]
     },
     "execution_count": 7,
     "metadata": {},
     "output_type": "execute_result"
    }
   ],
   "source": [
    "len(cityid),len(cityid[cityid == 1]),len(cityid[cityid < 3])"
   ]
  },
  {
   "cell_type": "code",
   "execution_count": null,
   "metadata": {
    "collapsed": true
   },
   "outputs": [],
   "source": [
    "将出现只有1和2次的city，用-1代替"
   ]
  },
  {
   "cell_type": "code",
   "execution_count": 7,
   "metadata": {
    "ExecuteTime": {
     "end_time": "2018-07-18T14:11:21.938836Z",
     "start_time": "2018-07-18T14:09:43.060920Z"
    },
    "collapsed": true
   },
   "outputs": [],
   "source": [
    "city = list(cityid[cityid < 3].index)\n",
    "for item in city:\n",
    "    train_x['city'].replace(item,-1,inplace = True)"
   ]
  },
  {
   "cell_type": "code",
   "execution_count": 9,
   "metadata": {
    "ExecuteTime": {
     "end_time": "2018-07-18T12:17:24.059770Z",
     "start_time": "2018-07-18T12:17:23.966012Z"
    }
   },
   "outputs": [
    {
     "data": {
      "text/plain": [
       "6613"
      ]
     },
     "execution_count": 9,
     "metadata": {},
     "output_type": "execute_result"
    }
   ],
   "source": [
    "cityid = train_x['city'].value_counts()\n",
    "len(cityid)"
   ]
  },
  {
   "cell_type": "code",
   "execution_count": null,
   "metadata": {
    "collapsed": true
   },
   "outputs": [],
   "source": [
    "对test的操作"
   ]
  },
  {
   "cell_type": "code",
   "execution_count": null,
   "metadata": {
    "collapsed": true
   },
   "outputs": [],
   "source": [
    "首先把noroom去掉"
   ]
  },
  {
   "cell_type": "code",
   "execution_count": 8,
   "metadata": {
    "ExecuteTime": {
     "end_time": "2018-07-18T14:11:23.485380Z",
     "start_time": "2018-07-18T14:11:23.466334Z"
    },
    "collapsed": true
   },
   "outputs": [],
   "source": [
    "test_A.drop(['noroom'],axis = 1,inplace = True)\n",
    "test_B.drop(['noroom'],axis = 1,inplace = True)"
   ]
  },
  {
   "cell_type": "code",
   "execution_count": 9,
   "metadata": {
    "ExecuteTime": {
     "end_time": "2018-07-18T14:11:24.995193Z",
     "start_time": "2018-07-18T14:11:24.986672Z"
    },
    "collapsed": true
   },
   "outputs": [],
   "source": [
    "test_A['zone'].replace(np.nan,-1,inplace = True)\n",
    "test_A['zone'].replace(0,-1,inplace = True)\n",
    "test_B['zone'].replace(np.nan,-1,inplace = True)\n",
    "test_B['zone'].replace(0,-1,inplace = True)"
   ]
  },
  {
   "cell_type": "code",
   "execution_count": null,
   "metadata": {
    "collapsed": true
   },
   "outputs": [],
   "source": [
    "# 后边要用上，先别drop\n",
    "# test_A.drop(['orderdate'],axis = 1,inplace = True)\n",
    "# test_B.drop(['orderdate'],axis = 1,inplace = True)"
   ]
  },
  {
   "cell_type": "code",
   "execution_count": null,
   "metadata": {
    "collapsed": true
   },
   "outputs": [],
   "source": [
    "数据集分裂\n",
    "train\n",
    "831-913 914\n",
    "test\n",
    "901-914 915\n",
    "这里需要注意两个验证集914和915：\n",
    "各自的时间跨度为：901-914,902-915"
   ]
  },
  {
   "cell_type": "code",
   "execution_count": 10,
   "metadata": {
    "ExecuteTime": {
     "end_time": "2018-07-18T14:11:26.460691Z",
     "start_time": "2018-07-18T14:11:26.452169Z"
    },
    "collapsed": true
   },
   "outputs": [],
   "source": [
    "from datetime import datetime\n",
    "v831 = datetime.strptime('2017-08-31', '%Y-%m-%d')\n",
    "v901 = datetime.strptime('2017-09-01', '%Y-%m-%d')\n",
    "v902 = datetime.strptime('2017-09-02', '%Y-%m-%d')\n",
    "v913 = datetime.strptime('2017-09-13', '%Y-%m-%d')\n",
    "v914 = datetime.strptime('2017-09-14', '%Y-%m-%d')\n",
    "v915 = datetime.strptime('2017-09-15', '%Y-%m-%d')"
   ]
  },
  {
   "cell_type": "code",
   "execution_count": null,
   "metadata": {
    "collapsed": true
   },
   "outputs": [],
   "source": [
    "train"
   ]
  },
  {
   "cell_type": "code",
   "execution_count": 11,
   "metadata": {
    "ExecuteTime": {
     "end_time": "2018-07-18T14:11:29.001926Z",
     "start_time": "2018-07-18T14:11:27.850251Z"
    },
    "collapsed": true
   },
   "outputs": [],
   "source": [
    "t831913 = train_x[train_x['orderdate'] < v914]\n",
    "t831913 = t831913[t831913['orderdate'] >= v831]\n",
    "t901914 = train_x[train_x['orderdate'] < v915]\n",
    "t901914 = t901914[t901914['orderdate'] >= v901]"
   ]
  },
  {
   "cell_type": "code",
   "execution_count": null,
   "metadata": {
    "collapsed": true
   },
   "outputs": [],
   "source": [
    "对应的test\n",
    "注意时间上，即便是小于等于0615，也不会包括615的信息，所以可以理解为这个时间是0615 00:00，\n",
    "因此小于等于的，都还是615之前的，不包括615这一天。"
   ]
  },
  {
   "cell_type": "code",
   "execution_count": null,
   "metadata": {
    "collapsed": true
   },
   "outputs": [],
   "source": [
    "处理y——放到最后吧，进行完特征挖掘后再处理y"
   ]
  },
  {
   "cell_type": "code",
   "execution_count": null,
   "metadata": {
    "ExecuteTime": {
     "start_time": "2018-07-17T08:39:04.649Z"
    },
    "collapsed": true
   },
   "outputs": [],
   "source": [
    "'''\n",
    "y831913 = t831913['noroom']\n",
    "t831913.drop(['noroom'],axis = 1,inplace = True)\n",
    "y901914 = t901914['noroom']\n",
    "t901914.drop(['noroom'],axis = 1,inplace = True)\n",
    "'''"
   ]
  },
  {
   "cell_type": "code",
   "execution_count": null,
   "metadata": {
    "collapsed": true
   },
   "outputs": [],
   "source": [
    "还需要将orderdate也都drop掉——这个先等等"
   ]
  },
  {
   "cell_type": "code",
   "execution_count": null,
   "metadata": {
    "collapsed": true
   },
   "outputs": [],
   "source": [
    "# t901914.drop(['orderdate'],axis = 1,inplace = True)\n",
    "# t831913.drop(['orderdate'],axis = 1,inplace = True)\n",
    "# test914.drop(['orderdate'],axis = 1,inplace = True)"
   ]
  },
  {
   "cell_type": "code",
   "execution_count": null,
   "metadata": {
    "collapsed": true
   },
   "outputs": [],
   "source": [
    "对test的处理有些不同，可以放到后边处理好train之后，再处理test，尤其是914，区间正好就是901-914这个set上\n",
    "可以将处理好的结果移植过来。"
   ]
  },
  {
   "cell_type": "code",
   "execution_count": null,
   "metadata": {
    "collapsed": true
   },
   "outputs": [],
   "source": [
    "test需要加上train_x的902到914部分，合成一个新的test，然后最后只要915这部分的。"
   ]
  },
  {
   "cell_type": "code",
   "execution_count": 12,
   "metadata": {
    "ExecuteTime": {
     "end_time": "2018-07-18T14:11:30.992511Z",
     "start_time": "2018-07-18T14:11:30.893154Z"
    },
    "collapsed": true
   },
   "outputs": [],
   "source": [
    "# 获得自己是第几个订这个room的值\n",
    "def get_room_top_x(train_x,v1,v2):\n",
    "    # 获得初始数据\n",
    "    temp = train_x[['orderdate','room']]\n",
    "    # 按照时间分割数据\n",
    "    tempa = temp['orderdate'] < v2 \n",
    "    tempb = temp['orderdate'] >= v1\n",
    "    tempc = tempa & tempb\n",
    "    temp['group']= tempc.values\n",
    "    # 按照room + 时间进一步分割数据\n",
    "    table = temp.groupby(['room','group'])\n",
    "    table = table.count().reset_index()\n",
    "    table.columns = ['room','group','count_max']\n",
    "    # 合并到初始表格中去\n",
    "    temp = pd.merge(temp,table,how = 'left')\n",
    "    # 需要对temp重新进行排序，便于后边给出正确的位次\n",
    "    temp.sort_values(['room','orderdate'],ascending = False,inplace = True)  \n",
    "    # 按照顺序给出位次\n",
    "    temp_list = []\n",
    "    for item in temp['count_max']:\n",
    "        temp_list.append(item)\n",
    "    for i in range(1,len(temp_list)):\n",
    "        before = temp_list[i-1]\n",
    "        if before == 1:\n",
    "            continue\n",
    "        else:\n",
    "            temp_list[i] = before - 1\n",
    "    temp['count_max'] = temp_list\n",
    "    # 需要将index恢复成正确的，原来的形式，之后才可以给最初的表格\n",
    "    temp.reset_index(inplace = True)\n",
    "    temp.sort_values(['index'],inplace = True)\n",
    "    temp.index = temp['index']\n",
    "    # 将最终结果扔回train\n",
    "    train_x['room_order_number'] = temp['count_max']\n",
    "    return train_x"
   ]
  },
  {
   "cell_type": "code",
   "execution_count": 13,
   "metadata": {
    "ExecuteTime": {
     "end_time": "2018-07-18T14:11:33.913944Z",
     "start_time": "2018-07-18T14:11:32.583881Z"
    }
   },
   "outputs": [
    {
     "name": "stderr",
     "output_type": "stream",
     "text": [
      "E:\\anaconda\\lib\\site-packages\\ipykernel_launcher.py:9: SettingWithCopyWarning: \n",
      "A value is trying to be set on a copy of a slice from a DataFrame.\n",
      "Try using .loc[row_indexer,col_indexer] = value instead\n",
      "\n",
      "See the caveats in the documentation: http://pandas.pydata.org/pandas-docs/stable/indexing.html#indexing-view-versus-copy\n",
      "  if __name__ == '__main__':\n"
     ]
    }
   ],
   "source": [
    "# 831-913\n",
    "v907 = datetime.strptime('2017-09-07', '%Y-%m-%d')\n",
    "# 按照最大到最小去排列\n",
    "t831913.sort_values(['orderdate'],ascending = False,inplace = True)\n",
    "# 重整index\n",
    "t831913.reset_index(inplace = True)\n",
    "t831913.drop(['index'],axis = 1,inplace = True)\n",
    "t831913 = get_room_top_x(t831913,v907,v914)"
   ]
  },
  {
   "cell_type": "code",
   "execution_count": 16,
   "metadata": {
    "ExecuteTime": {
     "end_time": "2018-07-18T12:17:50.612871Z",
     "start_time": "2018-07-18T12:17:50.548633Z"
    }
   },
   "outputs": [
    {
     "data": {
      "text/html": [
       "<div>\n",
       "<style>\n",
       "    .dataframe thead tr:only-child th {\n",
       "        text-align: right;\n",
       "    }\n",
       "\n",
       "    .dataframe thead th {\n",
       "        text-align: left;\n",
       "    }\n",
       "\n",
       "    .dataframe tbody tr th {\n",
       "        vertical-align: top;\n",
       "    }\n",
       "</style>\n",
       "<table border=\"1\" class=\"dataframe\">\n",
       "  <thead>\n",
       "    <tr style=\"text-align: right;\">\n",
       "      <th></th>\n",
       "      <th>orderdate</th>\n",
       "      <th>room</th>\n",
       "      <th>room_order_number</th>\n",
       "    </tr>\n",
       "  </thead>\n",
       "  <tbody>\n",
       "    <tr>\n",
       "      <th>0</th>\n",
       "      <td>2017-09-13 23:59:57</td>\n",
       "      <td>413697</td>\n",
       "      <td>1</td>\n",
       "    </tr>\n",
       "    <tr>\n",
       "      <th>1</th>\n",
       "      <td>2017-09-13 23:59:56</td>\n",
       "      <td>29009193</td>\n",
       "      <td>5</td>\n",
       "    </tr>\n",
       "    <tr>\n",
       "      <th>2</th>\n",
       "      <td>2017-09-13 23:59:54</td>\n",
       "      <td>94768472</td>\n",
       "      <td>1</td>\n",
       "    </tr>\n",
       "    <tr>\n",
       "      <th>3</th>\n",
       "      <td>2017-09-13 23:59:50</td>\n",
       "      <td>20899290</td>\n",
       "      <td>1</td>\n",
       "    </tr>\n",
       "    <tr>\n",
       "      <th>4</th>\n",
       "      <td>2017-09-13 23:59:44</td>\n",
       "      <td>70523754</td>\n",
       "      <td>2</td>\n",
       "    </tr>\n",
       "  </tbody>\n",
       "</table>\n",
       "</div>"
      ],
      "text/plain": [
       "            orderdate      room  room_order_number\n",
       "0 2017-09-13 23:59:57    413697                  1\n",
       "1 2017-09-13 23:59:56  29009193                  5\n",
       "2 2017-09-13 23:59:54  94768472                  1\n",
       "3 2017-09-13 23:59:50  20899290                  1\n",
       "4 2017-09-13 23:59:44  70523754                  2"
      ]
     },
     "execution_count": 16,
     "metadata": {},
     "output_type": "execute_result"
    }
   ],
   "source": [
    "t831913[['orderdate','room','room_order_number']].head()"
   ]
  },
  {
   "cell_type": "code",
   "execution_count": 17,
   "metadata": {
    "ExecuteTime": {
     "end_time": "2018-07-18T12:17:54.924666Z",
     "start_time": "2018-07-18T12:17:54.919652Z"
    }
   },
   "outputs": [
    {
     "data": {
      "text/plain": [
       "Index(['city', 'countryid', 'glat', 'glon', 'hotel', 'hotelbelongto',\n",
       "       'hotelstar', 'isebookinghtl', 'isholdroom', 'isvendor',\n",
       "       'masterbasicroomid', 'masterhotelid', 'noroom', 'ordadvanceday',\n",
       "       'orderdate', 'orderid', 'room', 'supplierchannel', 'supplierid',\n",
       "       'wuli_totalrooms', 'zifangxing_totalrooms', 'zone', 'order_hour',\n",
       "       'order_minute', 'day_stay', 'room_order_number'],\n",
       "      dtype='object')"
      ]
     },
     "execution_count": 17,
     "metadata": {},
     "output_type": "execute_result"
    }
   ],
   "source": [
    "t831913.columns"
   ]
  },
  {
   "cell_type": "code",
   "execution_count": 14,
   "metadata": {
    "ExecuteTime": {
     "end_time": "2018-07-18T14:11:36.310917Z",
     "start_time": "2018-07-18T14:11:35.356701Z"
    }
   },
   "outputs": [
    {
     "name": "stderr",
     "output_type": "stream",
     "text": [
      "E:\\anaconda\\lib\\site-packages\\ipykernel_launcher.py:9: SettingWithCopyWarning: \n",
      "A value is trying to be set on a copy of a slice from a DataFrame.\n",
      "Try using .loc[row_indexer,col_indexer] = value instead\n",
      "\n",
      "See the caveats in the documentation: http://pandas.pydata.org/pandas-docs/stable/indexing.html#indexing-view-versus-copy\n",
      "  if __name__ == '__main__':\n"
     ]
    }
   ],
   "source": [
    "# 901-914\n",
    "v908 = datetime.strptime('2017-09-08', '%Y-%m-%d')\n",
    "# 按照最大到最小去排列\n",
    "t901914.sort_values(['orderdate'],ascending = False,inplace = True)\n",
    "# 重整index\n",
    "t901914.reset_index(inplace = True)\n",
    "t901914.drop(['index'],axis = 1,inplace = True)\n",
    "t901914 = get_room_top_x(t901914,v908,v915)"
   ]
  },
  {
   "cell_type": "code",
   "execution_count": null,
   "metadata": {
    "collapsed": true
   },
   "outputs": [],
   "source": [
    "验证集914"
   ]
  },
  {
   "cell_type": "code",
   "execution_count": 15,
   "metadata": {
    "ExecuteTime": {
     "end_time": "2018-07-18T14:11:37.973757Z",
     "start_time": "2018-07-18T14:11:37.927638Z"
    },
    "collapsed": true
   },
   "outputs": [],
   "source": [
    "test914 = t901914[t901914['orderdate'] >= v914]\n",
    "y914 = test914['noroom']"
   ]
  },
  {
   "cell_type": "code",
   "execution_count": null,
   "metadata": {
    "collapsed": true
   },
   "outputs": [],
   "source": [
    "对于test则有些麻烦，不能直接取，\n",
    "需要用902-915的来重构。"
   ]
  },
  {
   "cell_type": "code",
   "execution_count": 16,
   "metadata": {
    "ExecuteTime": {
     "end_time": "2018-07-18T14:11:40.120087Z",
     "start_time": "2018-07-18T14:11:39.578107Z"
    },
    "collapsed": true
   },
   "outputs": [],
   "source": [
    "t902914 = train_x[train_x['orderdate'] < v915]\n",
    "t902914 = t902914[t902914['orderdate'] >= v902]"
   ]
  },
  {
   "cell_type": "code",
   "execution_count": 17,
   "metadata": {
    "ExecuteTime": {
     "end_time": "2018-07-18T14:11:42.972857Z",
     "start_time": "2018-07-18T14:11:42.032487Z"
    }
   },
   "outputs": [
    {
     "name": "stderr",
     "output_type": "stream",
     "text": [
      "E:\\anaconda\\lib\\site-packages\\ipykernel_launcher.py:9: SettingWithCopyWarning: \n",
      "A value is trying to be set on a copy of a slice from a DataFrame.\n",
      "Try using .loc[row_indexer,col_indexer] = value instead\n",
      "\n",
      "See the caveats in the documentation: http://pandas.pydata.org/pandas-docs/stable/indexing.html#indexing-view-versus-copy\n",
      "  if __name__ == '__main__':\n"
     ]
    }
   ],
   "source": [
    "# testA 902-915\n",
    "test = pd.concat([test_A,t902914]) # 这里会导致test有noroom列，不过无所谓的后边删了就行\n",
    "v909 = datetime.strptime('2017-09-09', '%Y-%m-%d')\n",
    "v916 = datetime.strptime('2017-09-16', '%Y-%m-%d')\n",
    "# 按照最大到最小去排列\n",
    "test.sort_values(['orderdate'],ascending = False,inplace = True)\n",
    "# 重整index\n",
    "test.reset_index(inplace = True)\n",
    "test.drop(['index'],axis = 1,inplace = True)\n",
    "test = get_room_top_x(test,v909,v916)"
   ]
  },
  {
   "cell_type": "code",
   "execution_count": 18,
   "metadata": {
    "ExecuteTime": {
     "end_time": "2018-07-18T14:11:44.860168Z",
     "start_time": "2018-07-18T14:11:44.808979Z"
    },
    "collapsed": true
   },
   "outputs": [],
   "source": [
    "test_A = test[test['orderdate'] >= v915]"
   ]
  },
  {
   "cell_type": "code",
   "execution_count": 19,
   "metadata": {
    "ExecuteTime": {
     "end_time": "2018-07-18T14:11:46.911620Z",
     "start_time": "2018-07-18T14:11:46.906609Z"
    }
   },
   "outputs": [
    {
     "data": {
      "text/plain": [
       "(11035, 23)"
      ]
     },
     "execution_count": 19,
     "metadata": {},
     "output_type": "execute_result"
    }
   ],
   "source": [
    "test_A.shape"
   ]
  },
  {
   "cell_type": "code",
   "execution_count": null,
   "metadata": {
    "collapsed": true
   },
   "outputs": [],
   "source": [
    "# testB"
   ]
  },
  {
   "cell_type": "code",
   "execution_count": 20,
   "metadata": {
    "ExecuteTime": {
     "end_time": "2018-07-18T14:11:50.004692Z",
     "start_time": "2018-07-18T14:11:48.747275Z"
    }
   },
   "outputs": [
    {
     "name": "stderr",
     "output_type": "stream",
     "text": [
      "E:\\anaconda\\lib\\site-packages\\ipykernel_launcher.py:9: SettingWithCopyWarning: \n",
      "A value is trying to be set on a copy of a slice from a DataFrame.\n",
      "Try using .loc[row_indexer,col_indexer] = value instead\n",
      "\n",
      "See the caveats in the documentation: http://pandas.pydata.org/pandas-docs/stable/indexing.html#indexing-view-versus-copy\n",
      "  if __name__ == '__main__':\n"
     ]
    }
   ],
   "source": [
    "test = pd.concat([test_B,t902914])\n",
    "v909 = datetime.strptime('2017-09-09', '%Y-%m-%d')\n",
    "v916 = datetime.strptime('2017-09-16', '%Y-%m-%d')\n",
    "# 按照最大到最小去排列\n",
    "test.sort_values(['orderdate'],ascending = False,inplace = True)\n",
    "# 重整index\n",
    "test.reset_index(inplace = True)\n",
    "test.drop(['index'],axis = 1,inplace = True)\n",
    "test = get_room_top_x(test,v909,v916)\n",
    "test_B = test[test['orderdate'] >= v915]"
   ]
  },
  {
   "cell_type": "code",
   "execution_count": 21,
   "metadata": {
    "ExecuteTime": {
     "end_time": "2018-07-18T14:11:51.937513Z",
     "start_time": "2018-07-18T14:11:51.931497Z"
    }
   },
   "outputs": [
    {
     "data": {
      "text/plain": [
       "(11036, 23)"
      ]
     },
     "execution_count": 21,
     "metadata": {},
     "output_type": "execute_result"
    }
   ],
   "source": [
    "test_B.shape"
   ]
  },
  {
   "cell_type": "code",
   "execution_count": null,
   "metadata": {
    "collapsed": true
   },
   "outputs": [],
   "source": [
    "最后将没必要留下的列删除"
   ]
  },
  {
   "cell_type": "code",
   "execution_count": null,
   "metadata": {
    "collapsed": true
   },
   "outputs": [],
   "source": [
    "首先是各个x的noroom"
   ]
  },
  {
   "cell_type": "code",
   "execution_count": 22,
   "metadata": {
    "ExecuteTime": {
     "end_time": "2018-07-18T14:12:40.469161Z",
     "start_time": "2018-07-18T14:12:40.196974Z"
    }
   },
   "outputs": [
    {
     "name": "stderr",
     "output_type": "stream",
     "text": [
      "E:\\anaconda\\lib\\site-packages\\ipykernel_launcher.py:6: SettingWithCopyWarning: \n",
      "A value is trying to be set on a copy of a slice from a DataFrame\n",
      "\n",
      "See the caveats in the documentation: http://pandas.pydata.org/pandas-docs/stable/indexing.html#indexing-view-versus-copy\n",
      "  \n"
     ]
    }
   ],
   "source": [
    "y831913 = t831913['noroom']\n",
    "t831913.drop(['noroom'],axis = 1,inplace = True)\n",
    "y901914 = t901914['noroom']\n",
    "t901914.drop(['noroom'],axis = 1,inplace = True)\n",
    "\n",
    "test914.drop(['noroom'],axis = 1,inplace = True)"
   ]
  },
  {
   "cell_type": "code",
   "execution_count": 23,
   "metadata": {
    "ExecuteTime": {
     "end_time": "2018-07-18T14:12:43.603835Z",
     "start_time": "2018-07-18T14:12:43.597819Z"
    }
   },
   "outputs": [
    {
     "data": {
      "text/plain": [
       "((307564, 22), (309802, 22), (11035, 23), (11036, 23), (23846, 22))"
      ]
     },
     "execution_count": 23,
     "metadata": {},
     "output_type": "execute_result"
    }
   ],
   "source": [
    "t831913.shape,t901914.shape,test_A.shape,test_B.shape,test914.shape"
   ]
  },
  {
   "cell_type": "code",
   "execution_count": 24,
   "metadata": {
    "ExecuteTime": {
     "end_time": "2018-07-18T14:12:46.490471Z",
     "start_time": "2018-07-18T14:12:46.480445Z"
    }
   },
   "outputs": [
    {
     "data": {
      "text/plain": [
       "((307564,), (309802,), (23846,))"
      ]
     },
     "execution_count": 24,
     "metadata": {},
     "output_type": "execute_result"
    }
   ],
   "source": [
    "y831913.shape,y901914.shape,y914.shape"
   ]
  },
  {
   "cell_type": "code",
   "execution_count": 25,
   "metadata": {
    "ExecuteTime": {
     "end_time": "2018-07-18T14:12:48.768748Z",
     "start_time": "2018-07-18T14:12:48.762228Z"
    }
   },
   "outputs": [
    {
     "data": {
      "text/plain": [
       "Index(['city', 'countryid', 'glat', 'glon', 'hotelbelongto', 'hotelstar',\n",
       "       'isebookinghtl', 'isholdroom', 'isvendor', 'ordadvanceday', 'orderdate',\n",
       "       'orderid', 'room', 'supplierchannel', 'supplierid', 'wuli_totalrooms',\n",
       "       'zifangxing_totalrooms', 'zone', 'order_hour', 'order_minute',\n",
       "       'day_stay', 'room_order_number'],\n",
       "      dtype='object')"
      ]
     },
     "execution_count": 25,
     "metadata": {},
     "output_type": "execute_result"
    }
   ],
   "source": [
    "t831913.columns"
   ]
  },
  {
   "cell_type": "code",
   "execution_count": 26,
   "metadata": {
    "ExecuteTime": {
     "end_time": "2018-07-18T14:12:51.267418Z",
     "start_time": "2018-07-18T14:12:51.260376Z"
    }
   },
   "outputs": [
    {
     "data": {
      "text/plain": [
       "Index(['city', 'countryid', 'glat', 'glon', 'hotelbelongto', 'hotelstar',\n",
       "       'isebookinghtl', 'isholdroom', 'isvendor', 'ordadvanceday', 'orderdate',\n",
       "       'orderid', 'room', 'supplierchannel', 'supplierid', 'wuli_totalrooms',\n",
       "       'zifangxing_totalrooms', 'zone', 'order_hour', 'order_minute',\n",
       "       'day_stay', 'room_order_number'],\n",
       "      dtype='object')"
      ]
     },
     "execution_count": 26,
     "metadata": {},
     "output_type": "execute_result"
    }
   ],
   "source": [
    "t901914.columns"
   ]
  },
  {
   "cell_type": "code",
   "execution_count": 27,
   "metadata": {
    "ExecuteTime": {
     "end_time": "2018-07-18T14:12:53.403776Z",
     "start_time": "2018-07-18T14:12:53.396267Z"
    }
   },
   "outputs": [
    {
     "data": {
      "text/plain": [
       "Index(['city', 'countryid', 'day_stay', 'glat', 'glon', 'hotelbelongto',\n",
       "       'hotelstar', 'isebookinghtl', 'isholdroom', 'isvendor', 'noroom',\n",
       "       'ordadvanceday', 'order_hour', 'order_minute', 'orderdate', 'orderid',\n",
       "       'room', 'supplierchannel', 'supplierid', 'wuli_totalrooms',\n",
       "       'zifangxing_totalrooms', 'zone', 'room_order_number'],\n",
       "      dtype='object')"
      ]
     },
     "execution_count": 27,
     "metadata": {},
     "output_type": "execute_result"
    }
   ],
   "source": [
    "test_A.columns"
   ]
  },
  {
   "cell_type": "code",
   "execution_count": 28,
   "metadata": {
    "ExecuteTime": {
     "end_time": "2018-07-18T14:12:55.833546Z",
     "start_time": "2018-07-18T14:12:55.642996Z"
    }
   },
   "outputs": [
    {
     "name": "stderr",
     "output_type": "stream",
     "text": [
      "E:\\anaconda\\lib\\site-packages\\ipykernel_launcher.py:2: SettingWithCopyWarning: \n",
      "A value is trying to be set on a copy of a slice from a DataFrame\n",
      "\n",
      "See the caveats in the documentation: http://pandas.pydata.org/pandas-docs/stable/indexing.html#indexing-view-versus-copy\n",
      "  \n"
     ]
    }
   ],
   "source": [
    "test_A.drop(['noroom'],axis = 1,inplace = True)\n",
    "test_B.drop(['noroom'],axis = 1,inplace = True)"
   ]
  },
  {
   "cell_type": "code",
   "execution_count": 29,
   "metadata": {
    "ExecuteTime": {
     "end_time": "2018-07-18T14:12:58.143943Z",
     "start_time": "2018-07-18T14:12:57.861189Z"
    }
   },
   "outputs": [
    {
     "name": "stderr",
     "output_type": "stream",
     "text": [
      "E:\\anaconda\\lib\\site-packages\\ipykernel_launcher.py:2: SettingWithCopyWarning: \n",
      "A value is trying to be set on a copy of a slice from a DataFrame\n",
      "\n",
      "See the caveats in the documentation: http://pandas.pydata.org/pandas-docs/stable/indexing.html#indexing-view-versus-copy\n",
      "  \n",
      "E:\\anaconda\\lib\\site-packages\\ipykernel_launcher.py:3: SettingWithCopyWarning: \n",
      "A value is trying to be set on a copy of a slice from a DataFrame\n",
      "\n",
      "See the caveats in the documentation: http://pandas.pydata.org/pandas-docs/stable/indexing.html#indexing-view-versus-copy\n",
      "  This is separate from the ipykernel package so we can avoid doing imports until\n"
     ]
    }
   ],
   "source": [
    "test_A.drop(['orderdate'],axis = 1,inplace = True)\n",
    "test_B.drop(['orderdate'],axis = 1,inplace = True)\n",
    "test914.drop(['orderdate'],axis = 1,inplace = True)\n",
    "t831913.drop(['orderdate'],axis = 1,inplace = True)\n",
    "t901914.drop(['orderdate'],axis = 1,inplace = True)"
   ]
  },
  {
   "cell_type": "code",
   "execution_count": 30,
   "metadata": {
    "ExecuteTime": {
     "end_time": "2018-07-18T14:13:00.270142Z",
     "start_time": "2018-07-18T14:13:00.264126Z"
    }
   },
   "outputs": [
    {
     "data": {
      "text/plain": [
       "((307564, 21), (309802, 21), (11035, 21), (11036, 21), (23846, 21))"
      ]
     },
     "execution_count": 30,
     "metadata": {},
     "output_type": "execute_result"
    }
   ],
   "source": [
    "t831913.shape,t901914.shape,test_A.shape,test_B.shape,test914.shape"
   ]
  },
  {
   "cell_type": "code",
   "execution_count": null,
   "metadata": {
    "collapsed": true
   },
   "outputs": [],
   "source": [
    "存档"
   ]
  },
  {
   "cell_type": "code",
   "execution_count": 31,
   "metadata": {
    "ExecuteTime": {
     "end_time": "2018-07-18T14:13:12.506664Z",
     "start_time": "2018-07-18T14:13:03.208533Z"
    },
    "collapsed": true
   },
   "outputs": [],
   "source": [
    "t831913.to_csv('dataset/final/t831913.csv',index = False)\n",
    "test914.to_csv('dataset/final/test914.csv',index = False)\n",
    "t901914.to_csv('dataset/final/t901914.csv',index = False)\n",
    "test_A.to_csv('dataset/final/test_A.csv',index = False)\n",
    "test_B.to_csv('dataset/final/test_B.csv',index = False)"
   ]
  },
  {
   "cell_type": "code",
   "execution_count": 32,
   "metadata": {
    "ExecuteTime": {
     "end_time": "2018-07-18T14:13:15.147863Z",
     "start_time": "2018-07-18T14:13:14.353344Z"
    },
    "collapsed": true
   },
   "outputs": [],
   "source": [
    "y831913.to_csv('dataset/final/y831913.csv',index = False,)\n",
    "y901914.to_csv('dataset/final/y901914.csv',index = False)\n",
    "y914.to_csv('dataset/final/y914.csv',index = False)"
   ]
  },
  {
   "cell_type": "code",
   "execution_count": null,
   "metadata": {
    "collapsed": true
   },
   "outputs": [],
   "source": []
  }
 ],
 "metadata": {
  "kernelspec": {
   "display_name": "Python 3",
   "language": "python",
   "name": "python3"
  },
  "language_info": {
   "codemirror_mode": {
    "name": "ipython",
    "version": 3
   },
   "file_extension": ".py",
   "mimetype": "text/x-python",
   "name": "python",
   "nbconvert_exporter": "python",
   "pygments_lexer": "ipython3",
   "version": "3.6.2"
  },
  "varInspector": {
   "cols": {
    "lenName": 16,
    "lenType": 16,
    "lenVar": 40
   },
   "kernels_config": {
    "python": {
     "delete_cmd_postfix": "",
     "delete_cmd_prefix": "del ",
     "library": "var_list.py",
     "varRefreshCmd": "print(var_dic_list())"
    },
    "r": {
     "delete_cmd_postfix": ") ",
     "delete_cmd_prefix": "rm(",
     "library": "var_list.r",
     "varRefreshCmd": "cat(var_dic_list()) "
    }
   },
   "types_to_exclude": [
    "module",
    "function",
    "builtin_function_or_method",
    "instance",
    "_Feature"
   ],
   "window_display": false
  }
 },
 "nbformat": 4,
 "nbformat_minor": 2
}
