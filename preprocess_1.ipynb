{
 "cells": [
  {
   "cell_type": "code",
   "execution_count": null,
   "metadata": {
    "collapsed": true
   },
   "outputs": [],
   "source": [
    "preprocess_1"
   ]
  },
  {
   "cell_type": "code",
   "execution_count": null,
   "metadata": {
    "collapsed": true
   },
   "outputs": [],
   "source": []
  },
  {
   "cell_type": "code",
   "execution_count": null,
   "metadata": {
    "collapsed": true
   },
   "outputs": [],
   "source": [
    "前期处理\n",
    "比如将特征的类型转换，便于后边算法训练用"
   ]
  },
  {
   "cell_type": "code",
   "execution_count": null,
   "metadata": {
    "collapsed": true
   },
   "outputs": [],
   "source": [
    "716修正：增加orderdate的minute，后边训练可以选择要不要用。\n",
    "但是先增加上。"
   ]
  },
  {
   "cell_type": "code",
   "execution_count": null,
   "metadata": {
    "collapsed": true
   },
   "outputs": [],
   "source": [
    "718修正：id类的特征，先不要删去。后边说不定要用\n",
    "——要不然second（秒）也加上得了。"
   ]
  },
  {
   "cell_type": "code",
   "execution_count": 1,
   "metadata": {
    "ExecuteTime": {
     "end_time": "2018-07-18T13:35:15.603090Z",
     "start_time": "2018-07-18T13:35:15.225045Z"
    },
    "collapsed": true
   },
   "outputs": [],
   "source": [
    "import numpy as np\n",
    "import pandas as pd"
   ]
  },
  {
   "cell_type": "code",
   "execution_count": 2,
   "metadata": {
    "ExecuteTime": {
     "end_time": "2018-07-18T13:35:36.886031Z",
     "start_time": "2018-07-18T13:35:16.394894Z"
    },
    "collapsed": true
   },
   "outputs": [],
   "source": [
    "train_x = pd.read_csv('dataset/train/ord_train_update.csv',encoding = 'GB2312')\n",
    "test_A = pd.read_csv('dataset/test/ord_testA_update.csv',encoding = 'GB2312')\n",
    "test_B = pd.read_csv('dataset/test/ord_testB_update.csv',encoding = 'GB2312')"
   ]
  },
  {
   "cell_type": "code",
   "execution_count": 3,
   "metadata": {
    "ExecuteTime": {
     "end_time": "2018-07-18T13:36:29.755490Z",
     "start_time": "2018-07-18T13:36:29.743459Z"
    }
   },
   "outputs": [
    {
     "data": {
      "text/plain": [
       "((4023086, 24), (11035, 23), (11036, 23))"
      ]
     },
     "execution_count": 3,
     "metadata": {},
     "output_type": "execute_result"
    }
   ],
   "source": [
    "train_x.shape,test_A.shape,test_B.shape"
   ]
  },
  {
   "cell_type": "code",
   "execution_count": null,
   "metadata": {
    "collapsed": true
   },
   "outputs": [],
   "source": [
    "先把train_x按照order日期排序"
   ]
  },
  {
   "cell_type": "code",
   "execution_count": 4,
   "metadata": {
    "ExecuteTime": {
     "end_time": "2018-07-18T13:37:01.507324Z",
     "start_time": "2018-07-18T13:36:33.184631Z"
    },
    "collapsed": true
   },
   "outputs": [],
   "source": [
    "train_x.sort_values(['orderdate'],inplace = True)"
   ]
  },
  {
   "cell_type": "code",
   "execution_count": null,
   "metadata": {
    "collapsed": true
   },
   "outputs": [],
   "source": [
    "将三者合并"
   ]
  },
  {
   "cell_type": "code",
   "execution_count": 5,
   "metadata": {
    "ExecuteTime": {
     "end_time": "2018-07-18T13:37:56.824348Z",
     "start_time": "2018-07-18T13:37:52.487588Z"
    },
    "collapsed": true
   },
   "outputs": [],
   "source": [
    "train_and_test = pd.concat([train_x,test_A,test_B])"
   ]
  },
  {
   "cell_type": "code",
   "execution_count": 6,
   "metadata": {
    "ExecuteTime": {
     "end_time": "2018-07-18T13:38:04.802837Z",
     "start_time": "2018-07-18T13:38:04.797823Z"
    },
    "collapsed": true
   },
   "outputs": [],
   "source": [
    "index_split_train_and_test = 4023086\n",
    "index_split_train_and_testB = 4034121"
   ]
  },
  {
   "cell_type": "code",
   "execution_count": null,
   "metadata": {
    "collapsed": true
   },
   "outputs": [],
   "source": [
    "index位置\n",
    "train 0-4023085\n",
    "testA 4023086-4034120\n",
    "testB 4034121-4045156"
   ]
  },
  {
   "cell_type": "code",
   "execution_count": 7,
   "metadata": {
    "ExecuteTime": {
     "end_time": "2018-07-18T13:38:15.408740Z",
     "start_time": "2018-07-18T13:38:15.402724Z"
    }
   },
   "outputs": [
    {
     "data": {
      "text/plain": [
       "(4045157, 24)"
      ]
     },
     "execution_count": 7,
     "metadata": {},
     "output_type": "execute_result"
    }
   ],
   "source": [
    "train_and_test.shape"
   ]
  },
  {
   "cell_type": "code",
   "execution_count": 12,
   "metadata": {
    "ExecuteTime": {
     "end_time": "2018-07-14T13:54:48.592145Z",
     "start_time": "2018-07-14T13:54:48.203825Z"
    }
   },
   "outputs": [
    {
     "data": {
      "text/html": [
       "<div>\n",
       "<style>\n",
       "    .dataframe thead tr:only-child th {\n",
       "        text-align: right;\n",
       "    }\n",
       "\n",
       "    .dataframe thead th {\n",
       "        text-align: left;\n",
       "    }\n",
       "\n",
       "    .dataframe tbody tr th {\n",
       "        vertical-align: top;\n",
       "    }\n",
       "</style>\n",
       "<table border=\"1\" class=\"dataframe\">\n",
       "  <thead>\n",
       "    <tr style=\"text-align: right;\">\n",
       "      <th></th>\n",
       "      <th>arrival</th>\n",
       "      <th>city</th>\n",
       "      <th>countryid</th>\n",
       "      <th>etd</th>\n",
       "      <th>glat</th>\n",
       "      <th>glon</th>\n",
       "      <th>hotel</th>\n",
       "      <th>hotelbelongto</th>\n",
       "      <th>hotelstar</th>\n",
       "      <th>isebookinghtl</th>\n",
       "      <th>...</th>\n",
       "      <th>noroom</th>\n",
       "      <th>ordadvanceday</th>\n",
       "      <th>orderdate</th>\n",
       "      <th>orderid</th>\n",
       "      <th>room</th>\n",
       "      <th>supplierchannel</th>\n",
       "      <th>supplierid</th>\n",
       "      <th>wuli_totalrooms</th>\n",
       "      <th>zifangxing_totalrooms</th>\n",
       "      <th>zone</th>\n",
       "    </tr>\n",
       "  </thead>\n",
       "  <tbody>\n",
       "    <tr>\n",
       "      <th>684457</th>\n",
       "      <td>2017-10-20</td>\n",
       "      <td>248</td>\n",
       "      <td>78</td>\n",
       "      <td>2017-10-21</td>\n",
       "      <td>33.591500</td>\n",
       "      <td>130.419020</td>\n",
       "      <td>7044764</td>\n",
       "      <td>SHT</td>\n",
       "      <td>0</td>\n",
       "      <td>T</td>\n",
       "      <td>...</td>\n",
       "      <td>0.0</td>\n",
       "      <td>36</td>\n",
       "      <td>2017-09-14 23:59:52</td>\n",
       "      <td>4504252505</td>\n",
       "      <td>61072586</td>\n",
       "      <td>合作</td>\n",
       "      <td>3685.0</td>\n",
       "      <td>110.0</td>\n",
       "      <td>7.0</td>\n",
       "      <td>NaN</td>\n",
       "    </tr>\n",
       "    <tr>\n",
       "      <th>0</th>\n",
       "      <td>2017/10/11</td>\n",
       "      <td>633</td>\n",
       "      <td>66</td>\n",
       "      <td>2017/10/15</td>\n",
       "      <td>40.687355</td>\n",
       "      <td>-73.982550</td>\n",
       "      <td>6265739</td>\n",
       "      <td>HTL</td>\n",
       "      <td>3</td>\n",
       "      <td>T</td>\n",
       "      <td>...</td>\n",
       "      <td>NaN</td>\n",
       "      <td>27</td>\n",
       "      <td>2017-09-15 14:11:00</td>\n",
       "      <td>4505896718</td>\n",
       "      <td>71340604</td>\n",
       "      <td>直签</td>\n",
       "      <td>2299.0</td>\n",
       "      <td>670.0</td>\n",
       "      <td>4.0</td>\n",
       "      <td>-1.0</td>\n",
       "    </tr>\n",
       "    <tr>\n",
       "      <th>1</th>\n",
       "      <td>2017/9/19</td>\n",
       "      <td>410</td>\n",
       "      <td>42</td>\n",
       "      <td>2017/9/20</td>\n",
       "      <td>37.446570</td>\n",
       "      <td>126.456345</td>\n",
       "      <td>2811117</td>\n",
       "      <td>SHT</td>\n",
       "      <td>3</td>\n",
       "      <td>F</td>\n",
       "      <td>...</td>\n",
       "      <td>NaN</td>\n",
       "      <td>4</td>\n",
       "      <td>2017-09-15 04:32:00</td>\n",
       "      <td>4504466510</td>\n",
       "      <td>70578904</td>\n",
       "      <td>合作</td>\n",
       "      <td>3536.0</td>\n",
       "      <td>7.0</td>\n",
       "      <td>58.0</td>\n",
       "      <td>NaN</td>\n",
       "    </tr>\n",
       "  </tbody>\n",
       "</table>\n",
       "<p>3 rows × 24 columns</p>\n",
       "</div>"
      ],
      "text/plain": [
       "           arrival  city  countryid         etd       glat        glon  \\\n",
       "684457  2017-10-20   248         78  2017-10-21  33.591500  130.419020   \n",
       "0       2017/10/11   633         66  2017/10/15  40.687355  -73.982550   \n",
       "1        2017/9/19   410         42   2017/9/20  37.446570  126.456345   \n",
       "\n",
       "          hotel hotelbelongto  hotelstar isebookinghtl ...  noroom  \\\n",
       "684457  7044764           SHT          0             T ...     0.0   \n",
       "0       6265739           HTL          3             T ...     NaN   \n",
       "1       2811117           SHT          3             F ...     NaN   \n",
       "\n",
       "        ordadvanceday            orderdate     orderid      room  \\\n",
       "684457             36  2017-09-14 23:59:52  4504252505  61072586   \n",
       "0                  27  2017-09-15 14:11:00  4505896718  71340604   \n",
       "1                   4  2017-09-15 04:32:00  4504466510  70578904   \n",
       "\n",
       "        supplierchannel supplierid  wuli_totalrooms  zifangxing_totalrooms  \\\n",
       "684457               合作     3685.0            110.0                    7.0   \n",
       "0                    直签     2299.0            670.0                    4.0   \n",
       "1                    合作     3536.0              7.0                   58.0   \n",
       "\n",
       "       zone  \n",
       "684457  NaN  \n",
       "0      -1.0  \n",
       "1       NaN  \n",
       "\n",
       "[3 rows x 24 columns]"
      ]
     },
     "execution_count": 12,
     "metadata": {},
     "output_type": "execute_result"
    }
   ],
   "source": [
    "train_and_test.iloc[4023085:4023088,:]"
   ]
  },
  {
   "cell_type": "code",
   "execution_count": 13,
   "metadata": {
    "ExecuteTime": {
     "end_time": "2018-07-14T13:54:54.555156Z",
     "start_time": "2018-07-14T13:54:54.275525Z"
    }
   },
   "outputs": [
    {
     "data": {
      "text/html": [
       "<div>\n",
       "<style>\n",
       "    .dataframe thead tr:only-child th {\n",
       "        text-align: right;\n",
       "    }\n",
       "\n",
       "    .dataframe thead th {\n",
       "        text-align: left;\n",
       "    }\n",
       "\n",
       "    .dataframe tbody tr th {\n",
       "        vertical-align: top;\n",
       "    }\n",
       "</style>\n",
       "<table border=\"1\" class=\"dataframe\">\n",
       "  <thead>\n",
       "    <tr style=\"text-align: right;\">\n",
       "      <th></th>\n",
       "      <th>arrival</th>\n",
       "      <th>city</th>\n",
       "      <th>countryid</th>\n",
       "      <th>etd</th>\n",
       "      <th>glat</th>\n",
       "      <th>glon</th>\n",
       "      <th>hotel</th>\n",
       "      <th>hotelbelongto</th>\n",
       "      <th>hotelstar</th>\n",
       "      <th>isebookinghtl</th>\n",
       "      <th>...</th>\n",
       "      <th>noroom</th>\n",
       "      <th>ordadvanceday</th>\n",
       "      <th>orderdate</th>\n",
       "      <th>orderid</th>\n",
       "      <th>room</th>\n",
       "      <th>supplierchannel</th>\n",
       "      <th>supplierid</th>\n",
       "      <th>wuli_totalrooms</th>\n",
       "      <th>zifangxing_totalrooms</th>\n",
       "      <th>zone</th>\n",
       "    </tr>\n",
       "  </thead>\n",
       "  <tbody>\n",
       "    <tr>\n",
       "      <th>11034</th>\n",
       "      <td>2017/10/16</td>\n",
       "      <td>3916</td>\n",
       "      <td>2</td>\n",
       "      <td>2017/10/17</td>\n",
       "      <td>2.550903</td>\n",
       "      <td>101.796936</td>\n",
       "      <td>5224606</td>\n",
       "      <td>SHT</td>\n",
       "      <td>0</td>\n",
       "      <td>F</td>\n",
       "      <td>...</td>\n",
       "      <td>NaN</td>\n",
       "      <td>31</td>\n",
       "      <td>2017-09-15 12:33:00</td>\n",
       "      <td>4505455290</td>\n",
       "      <td>36691160</td>\n",
       "      <td>合作</td>\n",
       "      <td>4577.0</td>\n",
       "      <td>226.0</td>\n",
       "      <td>22.0</td>\n",
       "      <td>NaN</td>\n",
       "    </tr>\n",
       "    <tr>\n",
       "      <th>0</th>\n",
       "      <td>2017/9/18</td>\n",
       "      <td>364</td>\n",
       "      <td>32</td>\n",
       "      <td>2017/9/22</td>\n",
       "      <td>14.532218</td>\n",
       "      <td>120.986206</td>\n",
       "      <td>6546241</td>\n",
       "      <td>SHT</td>\n",
       "      <td>4</td>\n",
       "      <td>T</td>\n",
       "      <td>...</td>\n",
       "      <td>NaN</td>\n",
       "      <td>3</td>\n",
       "      <td>2017-09-15 17:36:00</td>\n",
       "      <td>4506801369</td>\n",
       "      <td>78296910</td>\n",
       "      <td>合作</td>\n",
       "      <td>4489.0</td>\n",
       "      <td>365.0</td>\n",
       "      <td>100.0</td>\n",
       "      <td>13226.0</td>\n",
       "    </tr>\n",
       "  </tbody>\n",
       "</table>\n",
       "<p>2 rows × 24 columns</p>\n",
       "</div>"
      ],
      "text/plain": [
       "          arrival  city  countryid         etd       glat        glon  \\\n",
       "11034  2017/10/16  3916          2  2017/10/17   2.550903  101.796936   \n",
       "0       2017/9/18   364         32   2017/9/22  14.532218  120.986206   \n",
       "\n",
       "         hotel hotelbelongto  hotelstar isebookinghtl   ...    noroom  \\\n",
       "11034  5224606           SHT          0             F   ...       NaN   \n",
       "0      6546241           SHT          4             T   ...       NaN   \n",
       "\n",
       "       ordadvanceday            orderdate     orderid      room  \\\n",
       "11034             31  2017-09-15 12:33:00  4505455290  36691160   \n",
       "0                  3  2017-09-15 17:36:00  4506801369  78296910   \n",
       "\n",
       "       supplierchannel supplierid  wuli_totalrooms  zifangxing_totalrooms  \\\n",
       "11034               合作     4577.0            226.0                   22.0   \n",
       "0                   合作     4489.0            365.0                  100.0   \n",
       "\n",
       "          zone  \n",
       "11034      NaN  \n",
       "0      13226.0  \n",
       "\n",
       "[2 rows x 24 columns]"
      ]
     },
     "execution_count": 13,
     "metadata": {},
     "output_type": "execute_result"
    }
   ],
   "source": [
    "train_and_test.iloc[4034120:4034122,:]"
   ]
  },
  {
   "cell_type": "code",
   "execution_count": null,
   "metadata": {
    "collapsed": true
   },
   "outputs": [],
   "source": [
    "date类型转换（没法保存，必须每次都做）"
   ]
  },
  {
   "cell_type": "code",
   "execution_count": 8,
   "metadata": {
    "ExecuteTime": {
     "end_time": "2018-07-18T13:44:57.942047Z",
     "start_time": "2018-07-18T13:38:23.922884Z"
    },
    "collapsed": true
   },
   "outputs": [],
   "source": [
    "from dateutil.parser import parse\n",
    "train_and_test['orderdate'] = train_and_test['orderdate'].apply(parse)"
   ]
  },
  {
   "cell_type": "code",
   "execution_count": null,
   "metadata": {
    "ExecuteTime": {
     "end_time": "2018-07-18T11:48:26.309926Z",
     "start_time": "2018-07-18T11:48:20.431Z"
    },
    "collapsed": true
   },
   "outputs": [],
   "source": [
    "object类型的转换（cat化）"
   ]
  },
  {
   "cell_type": "code",
   "execution_count": 9,
   "metadata": {
    "ExecuteTime": {
     "end_time": "2018-07-18T13:45:02.080789Z",
     "start_time": "2018-07-18T13:45:01.383084Z"
    },
    "collapsed": true
   },
   "outputs": [],
   "source": [
    "train_and_test['supplierchannel'].replace('合作','hezuo',inplace = True)\n",
    "train_and_test['supplierchannel'].replace('直签','zhiqian',inplace = True)\n",
    "train_and_test['supplierchannel'].replace('集团直连','jituanzhilian',inplace = True)"
   ]
  },
  {
   "cell_type": "code",
   "execution_count": null,
   "metadata": {
    "collapsed": true
   },
   "outputs": [],
   "source": [
    "object列，必须变成categorical的类型（或者是float）\n",
    "注意这里arrival和etd作为时间，不变成cat更合理"
   ]
  },
  {
   "cell_type": "code",
   "execution_count": 10,
   "metadata": {
    "ExecuteTime": {
     "end_time": "2018-07-18T13:45:06.350555Z",
     "start_time": "2018-07-18T13:45:05.183572Z"
    },
    "collapsed": true
   },
   "outputs": [],
   "source": [
    "train_and_test['supplierchannel'] = train_and_test['supplierchannel'].astype('category')\n",
    "train_and_test['isholdroom'] = train_and_test['isholdroom'].astype('category')\n",
    "train_and_test['hotelbelongto'] = train_and_test['hotelbelongto'].astype('category')\n",
    "train_and_test['isebookinghtl'] = train_and_test['isebookinghtl'].astype('category')"
   ]
  },
  {
   "cell_type": "code",
   "execution_count": 11,
   "metadata": {
    "ExecuteTime": {
     "end_time": "2018-07-18T13:45:09.221552Z",
     "start_time": "2018-07-18T13:45:09.205470Z"
    },
    "collapsed": true
   },
   "outputs": [],
   "source": [
    "train_and_test['supplierchannel'] = train_and_test['supplierchannel'].cat.codes\n",
    "train_and_test['isholdroom'] = train_and_test['isholdroom'].cat.codes\n",
    "train_and_test['hotelbelongto'] = train_and_test['hotelbelongto'].cat.codes\n",
    "train_and_test['isebookinghtl'] = train_and_test['isebookinghtl'].cat.codes"
   ]
  },
  {
   "cell_type": "code",
   "execution_count": null,
   "metadata": {
    "collapsed": true
   },
   "outputs": [],
   "source": [
    "month和day不要，hour保留：\n",
    "原因：test只有1天。\n",
    "arrival和etd还是要的，但是order的day就不要了"
   ]
  },
  {
   "cell_type": "code",
   "execution_count": 13,
   "metadata": {
    "ExecuteTime": {
     "end_time": "2018-07-18T11:54:12.044037Z",
     "start_time": "2018-07-18T11:54:11.770308Z"
    }
   },
   "outputs": [
    {
     "data": {
      "text/plain": [
       "3"
      ]
     },
     "execution_count": 13,
     "metadata": {},
     "output_type": "execute_result"
    }
   ],
   "source": [
    "train_and_test.iloc[0,16].second"
   ]
  },
  {
   "cell_type": "code",
   "execution_count": null,
   "metadata": {
    "collapsed": true
   },
   "outputs": [],
   "source": [
    "这次把minute和second也都加上。"
   ]
  },
  {
   "cell_type": "code",
   "execution_count": 12,
   "metadata": {
    "ExecuteTime": {
     "end_time": "2018-07-18T13:45:24.506064Z",
     "start_time": "2018-07-18T13:45:11.925788Z"
    },
    "collapsed": true
   },
   "outputs": [],
   "source": [
    "hour = []\n",
    "minute = []\n",
    "for item in train_and_test['orderdate']:\n",
    "    hour.append(item.hour)\n",
    "    minute.append(item.minute)\n",
    "\n",
    "train_and_test['order_hour'] = hour\n",
    "train_and_test['order_minute'] = minute"
   ]
  },
  {
   "cell_type": "code",
   "execution_count": null,
   "metadata": {
    "collapsed": true
   },
   "outputs": [],
   "source": [
    "arrival和std的处理方式不太一样，因为没变成date，还是str\n",
    "——同时train和test部分格式还不一样，需要分别处理"
   ]
  },
  {
   "cell_type": "code",
   "execution_count": 13,
   "metadata": {
    "ExecuteTime": {
     "end_time": "2018-07-18T13:45:31.414941Z",
     "start_time": "2018-07-18T13:45:28.180488Z"
    },
    "collapsed": true
   },
   "outputs": [],
   "source": [
    "day = []\n",
    "count = 0\n",
    "for item in train_and_test['arrival']:\n",
    "    if count < index_split_train_and_test:\n",
    "        day.append(int(item[5:7] + item[8:]))\n",
    "    else:\n",
    "        day.append(int(item[5:].replace('/','')))  \n",
    "    count = count + 1\n",
    "\n",
    "train_and_test['arrival_day'] = day"
   ]
  },
  {
   "cell_type": "code",
   "execution_count": 14,
   "metadata": {
    "ExecuteTime": {
     "end_time": "2018-07-18T13:45:38.179514Z",
     "start_time": "2018-07-18T13:45:34.892873Z"
    },
    "collapsed": true
   },
   "outputs": [],
   "source": [
    "day = []\n",
    "count = 0\n",
    "for item in train_and_test['etd']:\n",
    "    if count < index_split_train_and_test:\n",
    "        day.append(int(item[5:7] + item[8:]))\n",
    "    else:\n",
    "        day.append(int(item[5:].replace('/','')))  \n",
    "    count = count + 1\n",
    "\n",
    "train_and_test['etd_day'] = day"
   ]
  },
  {
   "cell_type": "code",
   "execution_count": 15,
   "metadata": {
    "ExecuteTime": {
     "end_time": "2018-07-18T13:45:38.185480Z",
     "start_time": "2018-07-18T13:45:38.180966Z"
    },
    "collapsed": true
   },
   "outputs": [],
   "source": [
    "# 这个留到后边train时决定如何处理\n",
    "# train_and_test.drop(['arrival','etd'],axis = 1 ,inplace = True)"
   ]
  },
  {
   "cell_type": "code",
   "execution_count": 18,
   "metadata": {
    "ExecuteTime": {
     "end_time": "2018-07-18T11:54:59.725306Z",
     "start_time": "2018-07-18T11:54:59.719254Z"
    }
   },
   "outputs": [
    {
     "data": {
      "text/plain": [
       "(4045157, 28)"
      ]
     },
     "execution_count": 18,
     "metadata": {},
     "output_type": "execute_result"
    }
   ],
   "source": [
    "train_and_test.shape"
   ]
  },
  {
   "cell_type": "code",
   "execution_count": 25,
   "metadata": {
    "ExecuteTime": {
     "end_time": "2018-07-18T08:32:58.289367Z",
     "start_time": "2018-07-18T08:32:58.151023Z"
    }
   },
   "outputs": [
    {
     "data": {
      "text/html": [
       "<div>\n",
       "<style>\n",
       "    .dataframe thead tr:only-child th {\n",
       "        text-align: right;\n",
       "    }\n",
       "\n",
       "    .dataframe thead th {\n",
       "        text-align: left;\n",
       "    }\n",
       "\n",
       "    .dataframe tbody tr th {\n",
       "        vertical-align: top;\n",
       "    }\n",
       "</style>\n",
       "<table border=\"1\" class=\"dataframe\">\n",
       "  <thead>\n",
       "    <tr style=\"text-align: right;\">\n",
       "      <th></th>\n",
       "      <th>arrival</th>\n",
       "      <th>city</th>\n",
       "      <th>countryid</th>\n",
       "      <th>etd</th>\n",
       "      <th>glat</th>\n",
       "      <th>glon</th>\n",
       "      <th>hotel</th>\n",
       "      <th>hotelbelongto</th>\n",
       "      <th>hotelstar</th>\n",
       "      <th>isebookinghtl</th>\n",
       "      <th>...</th>\n",
       "      <th>supplierchannel</th>\n",
       "      <th>supplierid</th>\n",
       "      <th>wuli_totalrooms</th>\n",
       "      <th>zifangxing_totalrooms</th>\n",
       "      <th>zone</th>\n",
       "      <th>order_hour</th>\n",
       "      <th>order_minute</th>\n",
       "      <th>order_second</th>\n",
       "      <th>arrival_day</th>\n",
       "      <th>etd_day</th>\n",
       "    </tr>\n",
       "  </thead>\n",
       "  <tbody>\n",
       "    <tr>\n",
       "      <th>1008396</th>\n",
       "      <td>2017-02-06</td>\n",
       "      <td>220</td>\n",
       "      <td>9</td>\n",
       "      <td>2017-02-07</td>\n",
       "      <td>25.130505</td>\n",
       "      <td>55.116665</td>\n",
       "      <td>3015862</td>\n",
       "      <td>3</td>\n",
       "      <td>5</td>\n",
       "      <td>1</td>\n",
       "      <td>...</td>\n",
       "      <td>3</td>\n",
       "      <td>2322.0</td>\n",
       "      <td>841.0</td>\n",
       "      <td>172.0</td>\n",
       "      <td>NaN</td>\n",
       "      <td>0</td>\n",
       "      <td>0</td>\n",
       "      <td>3</td>\n",
       "      <td>206</td>\n",
       "      <td>207</td>\n",
       "    </tr>\n",
       "    <tr>\n",
       "      <th>3541880</th>\n",
       "      <td>2017-03-31</td>\n",
       "      <td>359</td>\n",
       "      <td>4</td>\n",
       "      <td>2017-04-01</td>\n",
       "      <td>13.728729</td>\n",
       "      <td>100.527115</td>\n",
       "      <td>6409984</td>\n",
       "      <td>3</td>\n",
       "      <td>3</td>\n",
       "      <td>1</td>\n",
       "      <td>...</td>\n",
       "      <td>3</td>\n",
       "      <td>1897.0</td>\n",
       "      <td>928.0</td>\n",
       "      <td>5.0</td>\n",
       "      <td>381.0</td>\n",
       "      <td>0</td>\n",
       "      <td>0</td>\n",
       "      <td>16</td>\n",
       "      <td>331</td>\n",
       "      <td>401</td>\n",
       "    </tr>\n",
       "    <tr>\n",
       "      <th>227988</th>\n",
       "      <td>2017-02-01</td>\n",
       "      <td>9052</td>\n",
       "      <td>83</td>\n",
       "      <td>2017-02-02</td>\n",
       "      <td>7.929710</td>\n",
       "      <td>80.720260</td>\n",
       "      <td>227845</td>\n",
       "      <td>1</td>\n",
       "      <td>5</td>\n",
       "      <td>0</td>\n",
       "      <td>...</td>\n",
       "      <td>1</td>\n",
       "      <td>2294.0</td>\n",
       "      <td>36.0</td>\n",
       "      <td>142.0</td>\n",
       "      <td>8263.0</td>\n",
       "      <td>0</td>\n",
       "      <td>0</td>\n",
       "      <td>19</td>\n",
       "      <td>201</td>\n",
       "      <td>202</td>\n",
       "    </tr>\n",
       "    <tr>\n",
       "      <th>1666191</th>\n",
       "      <td>2017-02-15</td>\n",
       "      <td>92573</td>\n",
       "      <td>78</td>\n",
       "      <td>2017-02-20</td>\n",
       "      <td>26.220081</td>\n",
       "      <td>127.675960</td>\n",
       "      <td>5722491</td>\n",
       "      <td>3</td>\n",
       "      <td>3</td>\n",
       "      <td>1</td>\n",
       "      <td>...</td>\n",
       "      <td>3</td>\n",
       "      <td>4657.0</td>\n",
       "      <td>214.0</td>\n",
       "      <td>8.0</td>\n",
       "      <td>1199.0</td>\n",
       "      <td>0</td>\n",
       "      <td>0</td>\n",
       "      <td>28</td>\n",
       "      <td>215</td>\n",
       "      <td>220</td>\n",
       "    </tr>\n",
       "    <tr>\n",
       "      <th>2631949</th>\n",
       "      <td>2017-02-22</td>\n",
       "      <td>35725</td>\n",
       "      <td>78</td>\n",
       "      <td>2017-02-25</td>\n",
       "      <td>26.450941</td>\n",
       "      <td>127.803370</td>\n",
       "      <td>1932564</td>\n",
       "      <td>3</td>\n",
       "      <td>4</td>\n",
       "      <td>1</td>\n",
       "      <td>...</td>\n",
       "      <td>3</td>\n",
       "      <td>2364.0</td>\n",
       "      <td>3.0</td>\n",
       "      <td>31.0</td>\n",
       "      <td>1196.0</td>\n",
       "      <td>0</td>\n",
       "      <td>0</td>\n",
       "      <td>31</td>\n",
       "      <td>222</td>\n",
       "      <td>225</td>\n",
       "    </tr>\n",
       "  </tbody>\n",
       "</table>\n",
       "<p>5 rows × 29 columns</p>\n",
       "</div>"
      ],
      "text/plain": [
       "            arrival   city  countryid         etd       glat        glon  \\\n",
       "1008396  2017-02-06    220          9  2017-02-07  25.130505   55.116665   \n",
       "3541880  2017-03-31    359          4  2017-04-01  13.728729  100.527115   \n",
       "227988   2017-02-01   9052         83  2017-02-02   7.929710   80.720260   \n",
       "1666191  2017-02-15  92573         78  2017-02-20  26.220081  127.675960   \n",
       "2631949  2017-02-22  35725         78  2017-02-25  26.450941  127.803370   \n",
       "\n",
       "           hotel  hotelbelongto  hotelstar  isebookinghtl   ...     \\\n",
       "1008396  3015862              3          5              1   ...      \n",
       "3541880  6409984              3          3              1   ...      \n",
       "227988    227845              1          5              0   ...      \n",
       "1666191  5722491              3          3              1   ...      \n",
       "2631949  1932564              3          4              1   ...      \n",
       "\n",
       "         supplierchannel  supplierid  wuli_totalrooms  zifangxing_totalrooms  \\\n",
       "1008396                3      2322.0            841.0                  172.0   \n",
       "3541880                3      1897.0            928.0                    5.0   \n",
       "227988                 1      2294.0             36.0                  142.0   \n",
       "1666191                3      4657.0            214.0                    8.0   \n",
       "2631949                3      2364.0              3.0                   31.0   \n",
       "\n",
       "           zone  order_hour order_minute  order_second  arrival_day  etd_day  \n",
       "1008396     NaN           0            0             3          206      207  \n",
       "3541880   381.0           0            0            16          331      401  \n",
       "227988   8263.0           0            0            19          201      202  \n",
       "1666191  1199.0           0            0            28          215      220  \n",
       "2631949  1196.0           0            0            31          222      225  \n",
       "\n",
       "[5 rows x 29 columns]"
      ]
     },
     "execution_count": 25,
     "metadata": {},
     "output_type": "execute_result"
    }
   ],
   "source": [
    "train_and_test.head()"
   ]
  },
  {
   "cell_type": "code",
   "execution_count": 19,
   "metadata": {
    "ExecuteTime": {
     "end_time": "2018-07-18T11:55:06.429792Z",
     "start_time": "2018-07-18T11:55:06.423775Z"
    }
   },
   "outputs": [
    {
     "data": {
      "text/plain": [
       "Index(['arrival', 'city', 'countryid', 'etd', 'glat', 'glon', 'hotel',\n",
       "       'hotelbelongto', 'hotelstar', 'isebookinghtl', 'isholdroom', 'isvendor',\n",
       "       'masterbasicroomid', 'masterhotelid', 'noroom', 'ordadvanceday',\n",
       "       'orderdate', 'orderid', 'room', 'supplierchannel', 'supplierid',\n",
       "       'wuli_totalrooms', 'zifangxing_totalrooms', 'zone', 'order_hour',\n",
       "       'order_minute', 'arrival_day', 'etd_day'],\n",
       "      dtype='object')"
      ]
     },
     "execution_count": 19,
     "metadata": {},
     "output_type": "execute_result"
    }
   ],
   "source": [
    "train_and_test.columns"
   ]
  },
  {
   "cell_type": "code",
   "execution_count": null,
   "metadata": {
    "collapsed": true
   },
   "outputs": [],
   "source": [
    "分别保存"
   ]
  },
  {
   "cell_type": "code",
   "execution_count": 16,
   "metadata": {
    "ExecuteTime": {
     "end_time": "2018-07-18T13:45:47.405943Z",
     "start_time": "2018-07-18T13:45:46.144021Z"
    },
    "collapsed": true
   },
   "outputs": [],
   "source": [
    "test_A = train_and_test.iloc[index_split_train_and_test:index_split_train_and_testB,:]\n",
    "test_B = train_and_test.iloc[index_split_train_and_testB:,:]\n",
    "train_x = train_and_test.iloc[:index_split_train_and_test,:]"
   ]
  },
  {
   "cell_type": "code",
   "execution_count": 17,
   "metadata": {
    "ExecuteTime": {
     "end_time": "2018-07-18T13:45:50.366992Z",
     "start_time": "2018-07-18T13:45:50.360978Z"
    }
   },
   "outputs": [
    {
     "data": {
      "text/plain": [
       "((11035, 28), (11036, 28), (4023086, 28))"
      ]
     },
     "execution_count": 17,
     "metadata": {},
     "output_type": "execute_result"
    }
   ],
   "source": [
    "test_A.shape,test_B.shape,train_x.shape"
   ]
  },
  {
   "cell_type": "code",
   "execution_count": 18,
   "metadata": {
    "ExecuteTime": {
     "end_time": "2018-07-18T13:47:07.918948Z",
     "start_time": "2018-07-18T13:45:53.194966Z"
    },
    "collapsed": true
   },
   "outputs": [],
   "source": [
    "train_x.to_csv('dataset/train/ord_train_pre1.csv',index = False)\n",
    "test_A.to_csv('dataset/test/ord_testA_pre1.csv',index = False)\n",
    "test_B.to_csv('dataset/test/ord_testB_pre1.csv',index = False)"
   ]
  },
  {
   "cell_type": "code",
   "execution_count": null,
   "metadata": {
    "collapsed": true
   },
   "outputs": [],
   "source": []
  },
  {
   "cell_type": "code",
   "execution_count": 19,
   "metadata": {
    "ExecuteTime": {
     "end_time": "2018-07-18T13:49:33.959145Z",
     "start_time": "2018-07-18T13:49:33.953104Z"
    },
    "collapsed": true
   },
   "outputs": [],
   "source": [
    "import numpy as np\n",
    "import pandas as pd"
   ]
  },
  {
   "cell_type": "code",
   "execution_count": 20,
   "metadata": {
    "ExecuteTime": {
     "end_time": "2018-07-18T13:50:01.797684Z",
     "start_time": "2018-07-18T13:49:37.901863Z"
    },
    "collapsed": true
   },
   "outputs": [],
   "source": [
    "train_x = pd.read_csv('dataset/train/ord_train_pre1.csv',encoding = 'GB2312')\n",
    "test_A = pd.read_csv('dataset/test/ord_testA_pre1.csv',encoding = 'GB2312')\n",
    "test_B = pd.read_csv('dataset/test/ord_testB_pre1.csv',encoding = 'GB2312')"
   ]
  },
  {
   "cell_type": "code",
   "execution_count": null,
   "metadata": {
    "collapsed": true
   },
   "outputs": [],
   "source": [
    "继续处理，开始设计特征"
   ]
  },
  {
   "cell_type": "code",
   "execution_count": 3,
   "metadata": {
    "ExecuteTime": {
     "end_time": "2018-07-18T08:38:33.951137Z",
     "start_time": "2018-07-18T08:38:33.923570Z"
    }
   },
   "outputs": [
    {
     "data": {
      "text/html": [
       "<div>\n",
       "<style>\n",
       "    .dataframe thead tr:only-child th {\n",
       "        text-align: right;\n",
       "    }\n",
       "\n",
       "    .dataframe thead th {\n",
       "        text-align: left;\n",
       "    }\n",
       "\n",
       "    .dataframe tbody tr th {\n",
       "        vertical-align: top;\n",
       "    }\n",
       "</style>\n",
       "<table border=\"1\" class=\"dataframe\">\n",
       "  <thead>\n",
       "    <tr style=\"text-align: right;\">\n",
       "      <th></th>\n",
       "      <th>arrival</th>\n",
       "      <th>city</th>\n",
       "      <th>countryid</th>\n",
       "      <th>etd</th>\n",
       "      <th>glat</th>\n",
       "      <th>glon</th>\n",
       "      <th>hotel</th>\n",
       "      <th>hotelbelongto</th>\n",
       "      <th>hotelstar</th>\n",
       "      <th>isebookinghtl</th>\n",
       "      <th>...</th>\n",
       "      <th>supplierchannel</th>\n",
       "      <th>supplierid</th>\n",
       "      <th>wuli_totalrooms</th>\n",
       "      <th>zifangxing_totalrooms</th>\n",
       "      <th>zone</th>\n",
       "      <th>order_hour</th>\n",
       "      <th>order_minute</th>\n",
       "      <th>order_second</th>\n",
       "      <th>arrival_day</th>\n",
       "      <th>etd_day</th>\n",
       "    </tr>\n",
       "  </thead>\n",
       "  <tbody>\n",
       "    <tr>\n",
       "      <th>0</th>\n",
       "      <td>2017-02-06</td>\n",
       "      <td>220</td>\n",
       "      <td>9</td>\n",
       "      <td>2017-02-07</td>\n",
       "      <td>25.130505</td>\n",
       "      <td>55.116665</td>\n",
       "      <td>3015862</td>\n",
       "      <td>3</td>\n",
       "      <td>5</td>\n",
       "      <td>1</td>\n",
       "      <td>...</td>\n",
       "      <td>3</td>\n",
       "      <td>2322.0</td>\n",
       "      <td>841.0</td>\n",
       "      <td>172.0</td>\n",
       "      <td>NaN</td>\n",
       "      <td>0</td>\n",
       "      <td>0</td>\n",
       "      <td>3</td>\n",
       "      <td>206</td>\n",
       "      <td>207</td>\n",
       "    </tr>\n",
       "    <tr>\n",
       "      <th>1</th>\n",
       "      <td>2017-03-31</td>\n",
       "      <td>359</td>\n",
       "      <td>4</td>\n",
       "      <td>2017-04-01</td>\n",
       "      <td>13.728729</td>\n",
       "      <td>100.527115</td>\n",
       "      <td>6409984</td>\n",
       "      <td>3</td>\n",
       "      <td>3</td>\n",
       "      <td>1</td>\n",
       "      <td>...</td>\n",
       "      <td>3</td>\n",
       "      <td>1897.0</td>\n",
       "      <td>928.0</td>\n",
       "      <td>5.0</td>\n",
       "      <td>381.0</td>\n",
       "      <td>0</td>\n",
       "      <td>0</td>\n",
       "      <td>16</td>\n",
       "      <td>331</td>\n",
       "      <td>401</td>\n",
       "    </tr>\n",
       "    <tr>\n",
       "      <th>2</th>\n",
       "      <td>2017-02-01</td>\n",
       "      <td>9052</td>\n",
       "      <td>83</td>\n",
       "      <td>2017-02-02</td>\n",
       "      <td>7.929710</td>\n",
       "      <td>80.720260</td>\n",
       "      <td>227845</td>\n",
       "      <td>1</td>\n",
       "      <td>5</td>\n",
       "      <td>0</td>\n",
       "      <td>...</td>\n",
       "      <td>1</td>\n",
       "      <td>2294.0</td>\n",
       "      <td>36.0</td>\n",
       "      <td>142.0</td>\n",
       "      <td>8263.0</td>\n",
       "      <td>0</td>\n",
       "      <td>0</td>\n",
       "      <td>19</td>\n",
       "      <td>201</td>\n",
       "      <td>202</td>\n",
       "    </tr>\n",
       "    <tr>\n",
       "      <th>3</th>\n",
       "      <td>2017-02-15</td>\n",
       "      <td>92573</td>\n",
       "      <td>78</td>\n",
       "      <td>2017-02-20</td>\n",
       "      <td>26.220081</td>\n",
       "      <td>127.675960</td>\n",
       "      <td>5722491</td>\n",
       "      <td>3</td>\n",
       "      <td>3</td>\n",
       "      <td>1</td>\n",
       "      <td>...</td>\n",
       "      <td>3</td>\n",
       "      <td>4657.0</td>\n",
       "      <td>214.0</td>\n",
       "      <td>8.0</td>\n",
       "      <td>1199.0</td>\n",
       "      <td>0</td>\n",
       "      <td>0</td>\n",
       "      <td>28</td>\n",
       "      <td>215</td>\n",
       "      <td>220</td>\n",
       "    </tr>\n",
       "    <tr>\n",
       "      <th>4</th>\n",
       "      <td>2017-02-22</td>\n",
       "      <td>35725</td>\n",
       "      <td>78</td>\n",
       "      <td>2017-02-25</td>\n",
       "      <td>26.450941</td>\n",
       "      <td>127.803370</td>\n",
       "      <td>1932564</td>\n",
       "      <td>3</td>\n",
       "      <td>4</td>\n",
       "      <td>1</td>\n",
       "      <td>...</td>\n",
       "      <td>3</td>\n",
       "      <td>2364.0</td>\n",
       "      <td>3.0</td>\n",
       "      <td>31.0</td>\n",
       "      <td>1196.0</td>\n",
       "      <td>0</td>\n",
       "      <td>0</td>\n",
       "      <td>31</td>\n",
       "      <td>222</td>\n",
       "      <td>225</td>\n",
       "    </tr>\n",
       "  </tbody>\n",
       "</table>\n",
       "<p>5 rows × 29 columns</p>\n",
       "</div>"
      ],
      "text/plain": [
       "      arrival   city  countryid         etd       glat        glon    hotel  \\\n",
       "0  2017-02-06    220          9  2017-02-07  25.130505   55.116665  3015862   \n",
       "1  2017-03-31    359          4  2017-04-01  13.728729  100.527115  6409984   \n",
       "2  2017-02-01   9052         83  2017-02-02   7.929710   80.720260   227845   \n",
       "3  2017-02-15  92573         78  2017-02-20  26.220081  127.675960  5722491   \n",
       "4  2017-02-22  35725         78  2017-02-25  26.450941  127.803370  1932564   \n",
       "\n",
       "   hotelbelongto  hotelstar  isebookinghtl   ...     supplierchannel  \\\n",
       "0              3          5              1   ...                   3   \n",
       "1              3          3              1   ...                   3   \n",
       "2              1          5              0   ...                   1   \n",
       "3              3          3              1   ...                   3   \n",
       "4              3          4              1   ...                   3   \n",
       "\n",
       "   supplierid  wuli_totalrooms  zifangxing_totalrooms    zone  order_hour  \\\n",
       "0      2322.0            841.0                  172.0     NaN           0   \n",
       "1      1897.0            928.0                    5.0   381.0           0   \n",
       "2      2294.0             36.0                  142.0  8263.0           0   \n",
       "3      4657.0            214.0                    8.0  1199.0           0   \n",
       "4      2364.0              3.0                   31.0  1196.0           0   \n",
       "\n",
       "  order_minute  order_second  arrival_day  etd_day  \n",
       "0            0             3          206      207  \n",
       "1            0            16          331      401  \n",
       "2            0            19          201      202  \n",
       "3            0            28          215      220  \n",
       "4            0            31          222      225  \n",
       "\n",
       "[5 rows x 29 columns]"
      ]
     },
     "execution_count": 3,
     "metadata": {},
     "output_type": "execute_result"
    }
   ],
   "source": [
    "train_x.head()"
   ]
  },
  {
   "cell_type": "code",
   "execution_count": 25,
   "metadata": {
    "ExecuteTime": {
     "end_time": "2018-07-18T11:57:28.372518Z",
     "start_time": "2018-07-18T11:57:28.365000Z"
    }
   },
   "outputs": [
    {
     "data": {
      "text/plain": [
       "Index(['arrival', 'city', 'countryid', 'etd', 'glat', 'glon', 'hotel',\n",
       "       'hotelbelongto', 'hotelstar', 'isebookinghtl', 'isholdroom', 'isvendor',\n",
       "       'masterbasicroomid', 'masterhotelid', 'noroom', 'ordadvanceday',\n",
       "       'orderdate', 'orderid', 'room', 'supplierchannel', 'supplierid',\n",
       "       'wuli_totalrooms', 'zifangxing_totalrooms', 'zone', 'order_hour',\n",
       "       'order_minute', 'arrival_day', 'etd_day'],\n",
       "      dtype='object')"
      ]
     },
     "execution_count": 25,
     "metadata": {},
     "output_type": "execute_result"
    }
   ],
   "source": [
    "train_x.columns"
   ]
  },
  {
   "cell_type": "code",
   "execution_count": null,
   "metadata": {
    "collapsed": true
   },
   "outputs": [],
   "source": [
    "需要处理的特征：\n",
    "1 arrival和etd不要，同名的day也不要\n",
    "添加：停留时长 = etd - arrival + 1\n",
    "——————718的修正：这些id先保留。可以以后不要。但是先保留！————————\n",
    "2 添加了glat和glon后，母酒店id可以由剩下的几个特征唯一确定（根据母酒店table），因此可以删除masterhotelid\n",
    "3 物理房型由个数wuli room决定，masterbasicroomid可以删除\n",
    "4 子房型的hotel也可以由其他特征来决定，可以删除"
   ]
  },
  {
   "cell_type": "code",
   "execution_count": null,
   "metadata": {
    "collapsed": true
   },
   "outputs": [],
   "source": [
    "处理1"
   ]
  },
  {
   "cell_type": "code",
   "execution_count": 21,
   "metadata": {
    "ExecuteTime": {
     "end_time": "2018-07-18T13:55:37.084970Z",
     "start_time": "2018-07-18T13:50:05.135213Z"
    },
    "collapsed": true
   },
   "outputs": [],
   "source": [
    "from dateutil.parser import parse\n",
    "train_x['arrival'] = train_x['arrival'].apply(parse)\n",
    "train_x['etd'] = train_x['etd'].apply(parse)\n",
    "test_A['arrival'] = test_A['arrival'].apply(parse)\n",
    "test_A['etd'] = test_A['etd'].apply(parse)\n",
    "test_B['arrival'] = test_B['arrival'].apply(parse)\n",
    "test_B['etd'] = test_B['etd'].apply(parse)"
   ]
  },
  {
   "cell_type": "code",
   "execution_count": 22,
   "metadata": {
    "ExecuteTime": {
     "end_time": "2018-07-18T13:58:21.771093Z",
     "start_time": "2018-07-18T13:55:40.580972Z"
    },
    "collapsed": true
   },
   "outputs": [],
   "source": [
    "day_stay = []\n",
    "for i in range(train_x.shape[0]):\n",
    "    temp = train_x.iloc[i,3] - train_x.iloc[i,0]\n",
    "    day_stay.append(temp)"
   ]
  },
  {
   "cell_type": "code",
   "execution_count": 23,
   "metadata": {
    "ExecuteTime": {
     "end_time": "2018-07-18T13:58:32.818658Z",
     "start_time": "2018-07-18T13:58:31.505929Z"
    },
    "collapsed": true
   },
   "outputs": [],
   "source": [
    "for i in range(len(day_stay)):\n",
    "    day_stay[i] = day_stay[i].days"
   ]
  },
  {
   "cell_type": "code",
   "execution_count": 24,
   "metadata": {
    "ExecuteTime": {
     "end_time": "2018-07-18T13:58:36.055189Z",
     "start_time": "2018-07-18T13:58:36.048672Z"
    }
   },
   "outputs": [
    {
     "data": {
      "text/plain": [
       "[1, 1, 1, 5]"
      ]
     },
     "execution_count": 24,
     "metadata": {},
     "output_type": "execute_result"
    }
   ],
   "source": [
    "day_stay[:4]"
   ]
  },
  {
   "cell_type": "code",
   "execution_count": 25,
   "metadata": {
    "ExecuteTime": {
     "end_time": "2018-07-18T13:58:39.946383Z",
     "start_time": "2018-07-18T13:58:39.344659Z"
    },
    "collapsed": true
   },
   "outputs": [],
   "source": [
    "train_x['day_stay'] = day_stay"
   ]
  },
  {
   "cell_type": "code",
   "execution_count": null,
   "metadata": {
    "collapsed": true
   },
   "outputs": [],
   "source": [
    "删除无用信息"
   ]
  },
  {
   "cell_type": "code",
   "execution_count": 26,
   "metadata": {
    "ExecuteTime": {
     "end_time": "2018-07-18T13:58:43.468604Z",
     "start_time": "2018-07-18T13:58:43.461585Z"
    },
    "collapsed": true
   },
   "outputs": [],
   "source": [
    "drop_list = ['arrival',  'etd',  'hotel','masterbasicroomid', 'masterhotelid','arrival_day', 'etd_day']\n",
    "# drop_list = ['arrival',  'etd','arrival_day', 'etd_day']"
   ]
  },
  {
   "cell_type": "code",
   "execution_count": 27,
   "metadata": {
    "ExecuteTime": {
     "end_time": "2018-07-18T13:58:48.166966Z",
     "start_time": "2018-07-18T13:58:46.982575Z"
    },
    "collapsed": true
   },
   "outputs": [],
   "source": [
    "train_x.drop(drop_list,axis = 1,inplace = True)"
   ]
  },
  {
   "cell_type": "code",
   "execution_count": 28,
   "metadata": {
    "ExecuteTime": {
     "end_time": "2018-07-18T13:58:51.433519Z",
     "start_time": "2018-07-18T13:58:51.428001Z"
    }
   },
   "outputs": [
    {
     "data": {
      "text/plain": [
       "(4023086, 22)"
      ]
     },
     "execution_count": 28,
     "metadata": {},
     "output_type": "execute_result"
    }
   ],
   "source": [
    "train_x.shape"
   ]
  },
  {
   "cell_type": "code",
   "execution_count": null,
   "metadata": {
    "collapsed": true
   },
   "outputs": [],
   "source": [
    "两个test"
   ]
  },
  {
   "cell_type": "code",
   "execution_count": 29,
   "metadata": {
    "ExecuteTime": {
     "end_time": "2018-07-18T13:58:55.166677Z",
     "start_time": "2018-07-18T13:58:54.474598Z"
    },
    "collapsed": true
   },
   "outputs": [],
   "source": [
    "day_stay = []\n",
    "for i in range(test_A.shape[0]):\n",
    "    temp = test_A.iloc[i,3] - test_A.iloc[i,0]\n",
    "    day_stay.append(temp)"
   ]
  },
  {
   "cell_type": "code",
   "execution_count": 30,
   "metadata": {
    "ExecuteTime": {
     "end_time": "2018-07-18T13:58:58.047758Z",
     "start_time": "2018-07-18T13:58:58.038209Z"
    },
    "collapsed": true
   },
   "outputs": [],
   "source": [
    "for i in range(len(day_stay)):\n",
    "    day_stay[i] = day_stay[i].days"
   ]
  },
  {
   "cell_type": "code",
   "execution_count": 31,
   "metadata": {
    "ExecuteTime": {
     "end_time": "2018-07-18T13:59:00.866232Z",
     "start_time": "2018-07-18T13:59:00.859744Z"
    },
    "collapsed": true
   },
   "outputs": [],
   "source": [
    "test_A['day_stay'] = day_stay"
   ]
  },
  {
   "cell_type": "code",
   "execution_count": 32,
   "metadata": {
    "ExecuteTime": {
     "end_time": "2018-07-18T13:59:03.855826Z",
     "start_time": "2018-07-18T13:59:03.844788Z"
    },
    "collapsed": true
   },
   "outputs": [],
   "source": [
    "test_A.drop(drop_list,axis = 1,inplace = True)"
   ]
  },
  {
   "cell_type": "code",
   "execution_count": 33,
   "metadata": {
    "ExecuteTime": {
     "end_time": "2018-07-18T13:59:06.904118Z",
     "start_time": "2018-07-18T13:59:06.898603Z"
    }
   },
   "outputs": [
    {
     "data": {
      "text/plain": [
       "(11035, 22)"
      ]
     },
     "execution_count": 33,
     "metadata": {},
     "output_type": "execute_result"
    }
   ],
   "source": [
    "test_A.shape"
   ]
  },
  {
   "cell_type": "code",
   "execution_count": 34,
   "metadata": {
    "ExecuteTime": {
     "end_time": "2018-07-18T13:59:10.806001Z",
     "start_time": "2018-07-18T13:59:09.906913Z"
    },
    "collapsed": true
   },
   "outputs": [],
   "source": [
    "day_stay = []\n",
    "for i in range(test_B.shape[0]):\n",
    "    temp = test_B.iloc[i,3] - test_B.iloc[i,0]\n",
    "    day_stay.append(temp)"
   ]
  },
  {
   "cell_type": "code",
   "execution_count": 35,
   "metadata": {
    "ExecuteTime": {
     "end_time": "2018-07-18T13:59:13.752732Z",
     "start_time": "2018-07-18T13:59:13.744711Z"
    },
    "collapsed": true
   },
   "outputs": [],
   "source": [
    "for i in range(len(day_stay)):\n",
    "    day_stay[i] = day_stay[i].days"
   ]
  },
  {
   "cell_type": "code",
   "execution_count": 36,
   "metadata": {
    "ExecuteTime": {
     "end_time": "2018-07-18T13:59:16.594284Z",
     "start_time": "2018-07-18T13:59:16.584259Z"
    },
    "collapsed": true
   },
   "outputs": [],
   "source": [
    "test_B['day_stay'] = day_stay"
   ]
  },
  {
   "cell_type": "code",
   "execution_count": 37,
   "metadata": {
    "ExecuteTime": {
     "end_time": "2018-07-18T13:59:19.693326Z",
     "start_time": "2018-07-18T13:59:19.681295Z"
    },
    "collapsed": true
   },
   "outputs": [],
   "source": [
    "test_B.drop(drop_list,axis = 1,inplace = True)"
   ]
  },
  {
   "cell_type": "code",
   "execution_count": 38,
   "metadata": {
    "ExecuteTime": {
     "end_time": "2018-07-18T13:59:22.663560Z",
     "start_time": "2018-07-18T13:59:22.655540Z"
    }
   },
   "outputs": [
    {
     "data": {
      "text/plain": [
       "(11036, 22)"
      ]
     },
     "execution_count": 38,
     "metadata": {},
     "output_type": "execute_result"
    }
   ],
   "source": [
    "test_B.shape"
   ]
  },
  {
   "cell_type": "code",
   "execution_count": null,
   "metadata": {
    "collapsed": true
   },
   "outputs": [],
   "source": [
    "保存"
   ]
  },
  {
   "cell_type": "code",
   "execution_count": 39,
   "metadata": {
    "ExecuteTime": {
     "end_time": "2018-07-18T14:02:15.405809Z",
     "start_time": "2018-07-18T14:01:12.021318Z"
    },
    "collapsed": true
   },
   "outputs": [],
   "source": [
    "train_x.to_csv('dataset/train/ord_train_pre2.csv',index = False)\n",
    "test_A.to_csv('dataset/test/ord_testA_pre2.csv',index = False)\n",
    "test_B.to_csv('dataset/test/ord_testB_pre2.csv',index = False)"
   ]
  },
  {
   "cell_type": "code",
   "execution_count": null,
   "metadata": {
    "collapsed": true
   },
   "outputs": [],
   "source": []
  },
  {
   "cell_type": "code",
   "execution_count": null,
   "metadata": {
    "collapsed": true
   },
   "outputs": [],
   "source": [
    "716的修正\n",
    "增加orderdate的minute（上边已经添加了）"
   ]
  },
  {
   "cell_type": "code",
   "execution_count": 2,
   "metadata": {
    "ExecuteTime": {
     "end_time": "2018-07-16T07:45:27.020179Z",
     "start_time": "2018-07-16T07:45:01.101793Z"
    },
    "collapsed": true
   },
   "outputs": [],
   "source": [
    "train_x = pd.read_csv('dataset/train/ord_train_pre2.csv')\n",
    "test_A = pd.read_csv('dataset/test/ord_testA_pre2.csv',encoding = 'GB2312')\n",
    "test_B = pd.read_csv('dataset/test/ord_testB_pre2.csv',encoding = 'GB2312')"
   ]
  },
  {
   "cell_type": "code",
   "execution_count": 3,
   "metadata": {
    "ExecuteTime": {
     "end_time": "2018-07-16T07:54:57.543798Z",
     "start_time": "2018-07-16T07:45:37.978829Z"
    },
    "collapsed": true
   },
   "outputs": [],
   "source": [
    "from dateutil.parser import parse\n",
    "train_x['orderdate'] = train_x['orderdate'].apply(parse)\n",
    "test_A['orderdate'] = test_A['orderdate'].apply(parse)\n",
    "test_B['orderdate'] = test_B['orderdate'].apply(parse)"
   ]
  },
  {
   "cell_type": "code",
   "execution_count": 4,
   "metadata": {
    "ExecuteTime": {
     "end_time": "2018-07-16T07:59:00.047892Z",
     "start_time": "2018-07-16T07:58:32.664090Z"
    },
    "collapsed": true
   },
   "outputs": [],
   "source": [
    "minute = []\n",
    "for item in train_x['orderdate']:\n",
    "    minute.append(item.minute)\n",
    "\n",
    "train_x['order_minute'] = minute\n",
    "\n",
    "minute = []\n",
    "for item in test_A['orderdate']:\n",
    "    minute.append(item.minute)\n",
    "\n",
    "test_A['order_minute'] = minute\n",
    "\n",
    "minute = []\n",
    "for item in test_B['orderdate']:\n",
    "    minute.append(item.minute)\n",
    "\n",
    "test_B['order_minute'] = minute"
   ]
  },
  {
   "cell_type": "code",
   "execution_count": 5,
   "metadata": {
    "ExecuteTime": {
     "end_time": "2018-07-16T08:00:57.551414Z",
     "start_time": "2018-07-16T08:00:57.534367Z"
    }
   },
   "outputs": [
    {
     "data": {
      "text/plain": [
       "((4023086, 22), (11035, 22))"
      ]
     },
     "execution_count": 5,
     "metadata": {},
     "output_type": "execute_result"
    }
   ],
   "source": [
    "train_x.shape,test_A.shape"
   ]
  },
  {
   "cell_type": "code",
   "execution_count": 6,
   "metadata": {
    "ExecuteTime": {
     "end_time": "2018-07-16T08:03:04.462427Z",
     "start_time": "2018-07-16T08:01:05.614346Z"
    },
    "collapsed": true
   },
   "outputs": [],
   "source": [
    "train_x.to_csv('dataset/train/ord_train_pre2.csv',index = False)\n",
    "test_A.to_csv('dataset/test/ord_testA_pre2.csv',index = False)\n",
    "test_B.to_csv('dataset/test/ord_testB_pre2.csv',index = False)"
   ]
  },
  {
   "cell_type": "code",
   "execution_count": 46,
   "metadata": {
    "ExecuteTime": {
     "end_time": "2018-07-18T12:08:41.159248Z",
     "start_time": "2018-07-18T12:08:41.152231Z"
    }
   },
   "outputs": [
    {
     "data": {
      "text/plain": [
       "Index(['city', 'countryid', 'glat', 'glon', 'hotel', 'hotelbelongto',\n",
       "       'hotelstar', 'isebookinghtl', 'isholdroom', 'isvendor',\n",
       "       'masterbasicroomid', 'masterhotelid', 'noroom', 'ordadvanceday',\n",
       "       'orderdate', 'orderid', 'room', 'supplierchannel', 'supplierid',\n",
       "       'wuli_totalrooms', 'zifangxing_totalrooms', 'zone', 'order_hour',\n",
       "       'order_minute', 'day_stay'],\n",
       "      dtype='object')"
      ]
     },
     "execution_count": 46,
     "metadata": {},
     "output_type": "execute_result"
    }
   ],
   "source": [
    "train_x.columns"
   ]
  },
  {
   "cell_type": "code",
   "execution_count": null,
   "metadata": {
    "collapsed": true
   },
   "outputs": [],
   "source": []
  }
 ],
 "metadata": {
  "kernelspec": {
   "display_name": "Python 3",
   "language": "python",
   "name": "python3"
  },
  "language_info": {
   "codemirror_mode": {
    "name": "ipython",
    "version": 3
   },
   "file_extension": ".py",
   "mimetype": "text/x-python",
   "name": "python",
   "nbconvert_exporter": "python",
   "pygments_lexer": "ipython3",
   "version": "3.6.2"
  },
  "varInspector": {
   "cols": {
    "lenName": 16,
    "lenType": 16,
    "lenVar": 40
   },
   "kernels_config": {
    "python": {
     "delete_cmd_postfix": "",
     "delete_cmd_prefix": "del ",
     "library": "var_list.py",
     "varRefreshCmd": "print(var_dic_list())"
    },
    "r": {
     "delete_cmd_postfix": ") ",
     "delete_cmd_prefix": "rm(",
     "library": "var_list.r",
     "varRefreshCmd": "cat(var_dic_list()) "
    }
   },
   "position": {
    "height": "274px",
    "left": "1186px",
    "right": "20px",
    "top": "186px",
    "width": "350px"
   },
   "types_to_exclude": [
    "module",
    "function",
    "builtin_function_or_method",
    "instance",
    "_Feature"
   ],
   "window_display": false
  }
 },
 "nbformat": 4,
 "nbformat_minor": 2
}
